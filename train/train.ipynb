{
 "cells": [
  {
   "cell_type": "code",
   "execution_count": 1,
   "id": "7a3717f1",
   "metadata": {},
   "outputs": [
    {
     "name": "stderr",
     "output_type": "stream",
     "text": [
      "'(MaxRetryError(\"HTTPSConnectionPool(host='huggingface.co', port=443): Max retries exceeded with url: /EleutherAI/pythia-410m/resolve/main/tokenizer_config.json (Caused by ConnectTimeoutError(<urllib3.connection.HTTPSConnection object at 0x7fb48284a9b0>, 'Connection to proxy-p.obspm.fr timed out. (connect timeout=10)'))\"), '(Request ID: c8a2f7c5-18ab-495b-bccc-f9cee0f50778)')' thrown while requesting HEAD https://huggingface.co/EleutherAI/pythia-410m/resolve/main/tokenizer_config.json\n"
     ]
    }
   ],
   "source": [
    "import copy\n",
    "import numpy as np\n",
    "\n",
    "import torch\n",
    "import torch.nn.functional as F\n",
    "import torch.backends.cuda as cuda\n",
    "from torch.utils.data import DataLoader, IterableDataset\n",
    "\n",
    "from tqdm import tqdm\n",
    "import bitsandbytes as bnb\n",
    "\n",
    "from transformers import AutoTokenizer, GPTNeoXForCausalLM, TrainingArguments, Trainer, logging\n",
    "from transformers.models.gpt_neox.modeling_gpt_neox import GPTNeoXAttention\n",
    "\n",
    "name = \"EleutherAI/pythia-410m\"\n",
    "tokenizer = AutoTokenizer.from_pretrained(name)"
   ]
  },
  {
   "cell_type": "markdown",
   "id": "fbfef6bd",
   "metadata": {},
   "source": [
    "### Train"
   ]
  },
  {
   "cell_type": "code",
   "execution_count": 2,
   "id": "beadfd71",
   "metadata": {},
   "outputs": [],
   "source": [
    "import warnings \n",
    "warnings.filterwarnings(\"ignore\")"
   ]
  },
  {
   "cell_type": "code",
   "execution_count": 3,
   "id": "3a7d505a",
   "metadata": {},
   "outputs": [],
   "source": [
    "from pynvml import *\n",
    "\n",
    "def print_gpu_utilization():\n",
    "    nvmlInit()\n",
    "    handle = nvmlDeviceGetHandleByIndex(0)\n",
    "    info = nvmlDeviceGetMemoryInfo(handle)\n",
    "    print(f\"GPU memory occupied: {info.used//1024**2} MB.\")"
   ]
  },
  {
   "cell_type": "code",
   "execution_count": 4,
   "id": "7dec84db",
   "metadata": {},
   "outputs": [],
   "source": [
    "def _attn_wrapper(self, query, key, value, attention_mask=None, head_mask=None):\n",
    "    assert attention_mask is None and head_mask is None, \"Not implemented\"\n",
    "    with cuda.sdp_kernel(enable_math=False):\n",
    "        out = F.scaled_dot_product_attention(\n",
    "            query.half(),\n",
    "            key.half(),\n",
    "            value.half(),\n",
    "            is_causal=True,\n",
    "        ).float()\n",
    "    return out, None\n",
    "\n",
    "# patch attention to save a lot of memory\n",
    "GPTNeoXAttention._attn = _attn_wrapper"
   ]
  },
  {
   "cell_type": "code",
   "execution_count": 5,
   "id": "6a701811",
   "metadata": {},
   "outputs": [
    {
     "name": "stderr",
     "output_type": "stream",
     "text": [
      "'(MaxRetryError(\"HTTPSConnectionPool(host='huggingface.co', port=443): Max retries exceeded with url: /EleutherAI/pythia-410m/resolve/main/config.json (Caused by ConnectTimeoutError(<urllib3.connection.HTTPSConnection object at 0x7f344aeacc40>, 'Connection to proxy-p.obspm.fr timed out. (connect timeout=10)'))\"), '(Request ID: 528f1354-8ecd-4691-8b44-05d21de8541b)')' thrown while requesting HEAD https://huggingface.co/EleutherAI/pythia-410m/resolve/main/config.json\n",
      "'(MaxRetryError(\"HTTPSConnectionPool(host='huggingface.co', port=443): Max retries exceeded with url: /EleutherAI/pythia-410m/resolve/main/config.json (Caused by ConnectTimeoutError(<urllib3.connection.HTTPSConnection object at 0x7f344aeaca30>, 'Connection to proxy-p.obspm.fr timed out. (connect timeout=10)'))\"), '(Request ID: 8c51e119-6350-4f4f-8092-ee5e72b64d65)')' thrown while requesting HEAD https://huggingface.co/EleutherAI/pythia-410m/resolve/main/config.json\n",
      "'(MaxRetryError(\"HTTPSConnectionPool(host='huggingface.co', port=443): Max retries exceeded with url: /EleutherAI/pythia-410m/resolve/main/generation_config.json (Caused by ConnectTimeoutError(<urllib3.connection.HTTPSConnection object at 0x7f344bae7dc0>, 'Connection to proxy-p.obspm.fr timed out. (connect timeout=10)'))\"), '(Request ID: 54080b47-aa81-4dea-b594-bd789f07eacf)')' thrown while requesting HEAD https://huggingface.co/EleutherAI/pythia-410m/resolve/main/generation_config.json\n"
     ]
    }
   ],
   "source": [
    "tokens = torch.load(\"../dataset/textbooks/textbooks.pt\")\n",
    "model = GPTNeoXForCausalLM.from_pretrained(name).cuda()"
   ]
  },
  {
   "cell_type": "code",
   "execution_count": 6,
   "id": "c4e7f518",
   "metadata": {},
   "outputs": [],
   "source": [
    "class TokenDataset(IterableDataset):\n",
    "    def __init__(self, tokens, block_size):\n",
    "        self.tokens = tokens\n",
    "        self.block_size = block_size\n",
    "        \n",
    "    def __iter__(self):\n",
    "        for _ in range(int(1.5 * len(self.tokens) / self.block_size)):\n",
    "            i = np.random.randint(len(self.tokens) - self.block_size)\n",
    "            yield self.tokens[i: i + self.block_size]"
   ]
  },
  {
   "cell_type": "code",
   "execution_count": 7,
   "id": "8c9469a8",
   "metadata": {},
   "outputs": [],
   "source": [
    "class Trainer():\n",
    "    def __init__(self, model, tokens):\n",
    "        self.block_size = 2048\n",
    "        self.grad = 16\n",
    "        self.step = 0\n",
    "        \n",
    "        self.dataset = TokenDataset(tokens, self.block_size)\n",
    "        self.loader = DataLoader(self.dataset, batch_size=4)\n",
    "        \n",
    "        self.scaler = torch.cuda.amp.GradScaler()\n",
    "        self.opt = bnb.optim.Lion(\n",
    "            params=model.parameters(),\n",
    "            lr=1e-5,\n",
    "            weight_decay=1e-1,\n",
    "            betas=(0.9, 0.95),\n",
    "            optim_bits=8,\n",
    "        )\n",
    "        self.model = torch.compile(model)\n",
    "        \n",
    "        self.loss = []\n",
    "\n",
    "    def train_step(self, batch):\n",
    "        batch = batch.cuda()\n",
    "        x, y = batch[:, :-1], batch[:, 1:]\n",
    "        with torch.autocast(device_type=\"cuda\", enabled=True):\n",
    "            z = self.model(x).logits\n",
    "            y = y.reshape(-1)\n",
    "            z = z.view(-1, z.shape[-1])\n",
    "            loss = F.cross_entropy(z, y)\n",
    "        self.scaler.scale(loss / self.grad).backward()\n",
    "        return loss\n",
    "    \n",
    "    def train(self):\n",
    "        prog = tqdm(self.loader)\n",
    "        self.opt.zero_grad()\n",
    "\n",
    "        for i, batch in enumerate(prog):\n",
    "            self.step = i + 1\n",
    "\n",
    "            loss = self.train_step(batch)\n",
    "            prog.set_description(f\"loss: {loss.item():.3f}\")\n",
    "            self.loss.append(loss.item())\n",
    "            print_gpu_utilization()\n",
    "\n",
    "            if (i + 1) % self.grad == 0:\n",
    "                self.scaler.step(self.opt)\n",
    "                self.scaler.update()\n",
    "                self.opt.zero_grad()\n",
    "\n",
    "            if i % 1000 == 0:\n",
    "                temp_model = copy.deepcopy(self.model).half()\n",
    "                temp_model.save_pretrained(\"trained-textbooks\", from_pt=True)\n",
    "\n",
    "                del temp_model\n",
    "                torch.cuda.empty_cache()        "
   ]
  },
  {
   "cell_type": "code",
   "execution_count": null,
   "id": "887fe495",
   "metadata": {},
   "outputs": [],
   "source": [
    "trainer = Trainer(model, tokens)\n",
    "trainer.train()"
   ]
  },
  {
   "cell_type": "code",
   "execution_count": 15,
   "id": "24d77c71",
   "metadata": {},
   "outputs": [],
   "source": [
    "temp_model = copy.deepcopy(trainer.model).half()\n",
    "temp_model.save_pretrained(\"trained-textbooks\", from_pt=True)\n",
    "\n",
    "del temp_model\n",
    "torch.cuda.empty_cache()   "
   ]
  },
  {
   "cell_type": "code",
   "execution_count": 19,
   "id": "54bd5fb6",
   "metadata": {},
   "outputs": [],
   "source": [
    "import pickle \n",
    "\n",
    "pickle.dump(trainer.loss, open('losses/loss-textbooks.pickle', 'wb'))"
   ]
  },
  {
   "cell_type": "code",
   "execution_count": 20,
   "id": "7de39fe2",
   "metadata": {},
   "outputs": [
    {
     "data": {
      "text/plain": [
       "[<matplotlib.lines.Line2D at 0x7f346b0e07c0>]"
      ]
     },
     "execution_count": 20,
     "metadata": {},
     "output_type": "execute_result"
    },
    {
     "data": {
      "image/png": "[encoded data removed]",
      "text/plain": [
       "<Figure size 640x480 with 1 Axes>"
      ]
     },
     "metadata": {},
     "output_type": "display_data"
    }
   ],
   "source": [
    "import matplotlib.pyplot as plt\n",
    "\n",
    "plt.plot([np.mean(trainer.loss[i: i+100]) for i in range(0, len(trainer.loss), 50)])"
   ]
  },
  {
   "cell_type": "markdown",
   "id": "3709cfae",
   "metadata": {},
   "source": [
    "### Inference"
   ]
  },
  {
   "cell_type": "code",
   "execution_count": null,
   "id": "43d31120",
   "metadata": {},
   "outputs": [],
   "source": [
    "model = GPTNeoXForCausalLM.from_pretrained(\"trained-textbooks\").cuda()"
   ]
  },
  {
   "cell_type": "code",
   "execution_count": 4,
   "id": "1a1b19c8",
   "metadata": {},
   "outputs": [
    {
     "name": "stderr",
     "output_type": "stream",
     "text": [
      "Setting `pad_token_id` to `eos_token_id`:0 for open-end generation.\n"
     ]
    },
    {
     "data": {
      "text/plain": [
       "'## Question:\\n How do I prove\\n Theorem plus_n_Sm : forall n m : nat, S (n + m) = n + (S m).\\n\\nI tried to prove it with induction, but I got stuck.\\nTheorem plus_n_Sm : forall n m : nat, S (n + m) = n + (S m).\\nProof.\\nintros n m.\\ninduction n.\\n- intros.\\n  simpl.\\n  simpl.\\n  simpl.\\n  simpl.\\n  simpl.\\n  simpl.\\n  simpl.\\n  simpl.\\n  simpl.\\n  simpl.\\n  simpl.\\n  simpl.\\n  simpl.\\n  simpl.\\n  simpl.\\n  simpl.\\n  simpl.\\n  simpl.\\n  simpl.\\n  simpl.\\n  simpl.\\n  simpl.\\n  simpl.\\n  simpl.\\n  simpl.\\n  simpl.\\n  simpl.\\n  simpl.\\n  simpl.\\n  simpl.\\n  simpl.\\n  simpl.\\n  simpl.\\n  simpl.\\n  simpl.\\n  simpl.\\n  simpl.\\n  simpl.\\n  simpl.\\n  simpl.\\n  simpl.\\n  simpl.\\n  simpl.\\n  simpl.\\n  simpl.\\n  simpl.\\n  simpl.\\n  simpl.\\n  simpl.\\n  simpl.\\n  simpl.\\n  simpl.\\n  simpl.\\n  simpl.\\n  simpl.\\n  simpl.\\n  simpl.\\n  simpl.\\n  simpl.\\n  '"
      ]
     },
     "execution_count": 4,
     "metadata": {},
     "output_type": "execute_result"
    }
   ],
   "source": [
    "prompt = \"## Question:\\n How do I prove\\n Theorem plus_n_Sm : forall n m : nat, S (n + m) = n + (S m).\"\n",
    "inputs = tokenizer(prompt, return_tensors=\"pt\").to(\"cuda\")\n",
    "outputs = model.generate(\n",
    "    **inputs, max_new_tokens=300\n",
    ")\n",
    "result = tokenizer.batch_decode(outputs, skip_special_tokens=True)[0]\n",
    "result"
   ]
  },
  {
   "cell_type": "code",
   "execution_count": null,
   "id": "f86f5b67",
   "metadata": {},
   "outputs": [],
   "source": []
  }
 ],
 "metadata": {
  "kernelspec": {
   "display_name": "Python 3 (ipykernel)",
   "language": "python",
   "name": "python3"
  },
  "language_info": {
   "codemirror_mode": {
    "name": "ipython",
    "version": 3
   },
   "file_extension": ".py",
   "mimetype": "text/x-python",
   "name": "python",
   "nbconvert_exporter": "python",
   "pygments_lexer": "ipython3",
   "version": "3.10.13"
  }
 },
 "nbformat": 4,
 "nbformat_minor": 5
}
