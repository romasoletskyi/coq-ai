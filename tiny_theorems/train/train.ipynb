{
 "cells": [
  {
   "cell_type": "code",
   "execution_count": 12,
   "id": "a68727a6-a456-41cb-88dd-6e04cc427bae",
   "metadata": {},
   "outputs": [],
   "source": [
    "import numpy as np\n",
    "import matplotlib.pyplot as plt"
   ]
  },
  {
   "cell_type": "markdown",
   "id": "38faebd7-7d85-474b-90ef-6f561cf4a407",
   "metadata": {},
   "source": [
    "### Theorem analysis"
   ]
  },
  {
   "cell_type": "code",
   "execution_count": 1,
   "id": "72e7a648-9960-440a-88b2-e6510e27de02",
   "metadata": {},
   "outputs": [],
   "source": [
    "from transformers import AutoTokenizer\n",
    "\n",
    "tokenizer = AutoTokenizer.from_pretrained('augapply-tokenizer')\n",
    "tokenizer.pad_token = tokenizer.eos_token\n",
    "tokenizer.padding_side = 'right'"
   ]
  },
  {
   "cell_type": "code",
   "execution_count": 23,
   "id": "ef5a4947-e01f-4e73-aa6d-5dd3e26d5f44",
   "metadata": {},
   "outputs": [
    {
     "name": "stdout",
     "output_type": "stream",
     "text": [
      "Collected 5483689 theorems\n",
      "Theorem ejqhmv: forall (R U Z M P : Prop), (U -> R) -> ((Z -> M) -> R) -> ((U -> Z) -> R -> Z) -> (R -> Z) -> ((P -> Z) -> M) -> Z.\n",
      "Proof.\n",
      "intros R U Z M P. intros HUR HZMR HUZRZ HRZ HPZM. apply HRZ. apply HZMR. intros HZ. apply HPZM. intros HP. apply HZ. \n",
      "Qed.\n",
      "\n"
     ]
    }
   ],
   "source": [
    "files = ['../dataset/augletter.v']\n",
    "theorems = []\n",
    "\n",
    "for file in files:\n",
    "    data = open(file, 'r').read()\n",
    "    for th in data.split('Theorem')[1:]:\n",
    "        theorems.append('Theorem' + th)\n",
    "\n",
    "print('Collected {0} theorems'.format(len(theorems)))\n",
    "print(theorems[-1])"
   ]
  },
  {
   "cell_type": "code",
   "execution_count": 24,
   "id": "76de78b9-1180-45ec-94f1-83d3d4a5acec",
   "metadata": {},
   "outputs": [
    {
     "name": "stdout",
     "output_type": "stream",
     "text": [
      "Theorem fvofjc: forall (U T W : Prop), U -> U.\n",
      "Proof.\n",
      "intros U T W. intros HU. apply HU. \n",
      "Qed.\n",
      "\n",
      "Tactic number 3\n"
     ]
    }
   ],
   "source": [
    "# We can count number of tactics in proof by counting total number of dots\n",
    "\n",
    "def tactic_count(th):\n",
    "    return th.count('.') - 3\n",
    "\n",
    "print(theorems[0])\n",
    "print(f'Tactic number {tactic_count(theorems[0])}')"
   ]
  },
  {
   "cell_type": "code",
   "execution_count": 25,
   "id": "5ab5df7e-98ee-4959-b41a-0ad2714db521",
   "metadata": {},
   "outputs": [
    {
     "data": {
      "image/png": "[encoded data removed]",
      "text/plain": [
       "<Figure size 640x480 with 1 Axes>"
      ]
     },
     "metadata": {},
     "output_type": "display_data"
    }
   ],
   "source": [
    "counts = np.array([tactic_count(th) for th in theorems])\n",
    "\n",
    "plt.hist(counts[counts < 75], bins=20)\n",
    "plt.show()"
   ]
  },
  {
   "cell_type": "code",
   "execution_count": null,
   "id": "46f841e1-053f-4602-b0a7-2e78715a1ef2",
   "metadata": {},
   "outputs": [],
   "source": [
    "tokens = [tokenizer.encode(th) for th in theorems]\n",
    "\n",
    "print('Total tokens {0}'.format(sum(len(tok) for tok in tokens)))"
   ]
  },
  {
   "cell_type": "code",
   "execution_count": null,
   "id": "e23df8eb-70c5-4965-93f9-0361c2e74798",
   "metadata": {},
   "outputs": [],
   "source": [
    "import pickle\n",
    "\n",
    "pickle.dump(tokens, open('augapply-tokens', 'wb'))"
   ]
  },
  {
   "cell_type": "code",
   "execution_count": 32,
   "id": "a9d8f4a0-0867-4c49-be21-8fe07a398c69",
   "metadata": {},
   "outputs": [
    {
     "data": {
      "image/png": "[encoded data removed]",
      "text/plain": [
       "<Figure size 640x480 with 1 Axes>"
      ]
     },
     "metadata": {},
     "output_type": "display_data"
    }
   ],
   "source": [
    "plt.hist([len(tok) for tok in tokens], bins=20)\n",
    "plt.show()"
   ]
  },
  {
   "cell_type": "code",
   "execution_count": 33,
   "id": "07788c59-fee4-4510-9e89-2d37c3d9a3a8",
   "metadata": {},
   "outputs": [
    {
     "data": {
      "text/plain": [
       "0.0003067278250097699"
      ]
     },
     "execution_count": 33,
     "metadata": {},
     "output_type": "execute_result"
    }
   ],
   "source": [
    "tok_len = np.array([len(tok) for tok in tokens])\n",
    "np.mean(tok_len > 256)"
   ]
  },
  {
   "cell_type": "markdown",
   "id": "0479afbf-d47c-4412-8a49-a040a61ab3a7",
   "metadata": {},
   "source": [
    "### Dataset creation"
   ]
  },
  {
   "cell_type": "code",
   "execution_count": 9,
   "id": "8711dbec-81b0-4c62-8c14-4be88dc58583",
   "metadata": {},
   "outputs": [],
   "source": [
    "indices = np.arange(len(tokens) // init_repeat)\n",
    "np.random.shuffle(indices)\n",
    "\n",
    "pickle.dump(indices, open('augapply-test-split', 'wb'))"
   ]
  },
  {
   "cell_type": "code",
   "execution_count": 2,
   "id": "0e4daaf3-1f5a-479d-9a8c-9b14e5fe4a12",
   "metadata": {},
   "outputs": [],
   "source": [
    "import pickle\n",
    "\n",
    "tokens = pickle.load(open('augapply-tokens', 'rb'))"
   ]
  },
  {
   "cell_type": "code",
   "execution_count": 3,
   "id": "109aab7b-20cb-4555-8cda-d29b32d4364c",
   "metadata": {},
   "outputs": [
    {
     "data": {
      "text/plain": [
       "array([371011, 104986, 228788, ..., 171617, 402401, 403608])"
      ]
     },
     "execution_count": 3,
     "metadata": {},
     "output_type": "execute_result"
    }
   ],
   "source": [
    "indices = pickle.load(open('augapply-test-split', 'rb'))\n",
    "indices"
   ]
  },
  {
   "cell_type": "code",
   "execution_count": 4,
   "id": "32ba5054-c935-4fa8-b4c1-0bdc079c62a7",
   "metadata": {},
   "outputs": [],
   "source": [
    "from datasets import Dataset, DatasetDict\n",
    "\n",
    "max_tokens = 256\n",
    "test_size = 0.05\n",
    "init_repeat = 10\n",
    "repeat = 3\n",
    "\n",
    "split = int(len(indices) * test_size)\n",
    "test_indices, train_indices = indices[:split], indices[split:]\n",
    "test_tok = [tokens[init_repeat * j] for j in test_indices]\n",
    "train_tok = [tokens[init_repeat * j + i] for i in range(repeat) for j in train_indices]\n",
    "test_data = Dataset.from_dict({'input_ids': [tok for tok in test_tok if len(tok) <= max_tokens]})\n",
    "train_data = Dataset.from_dict({'input_ids': [tok for tok in train_tok if len(tok) <= max_tokens]})\n",
    "\n",
    "dataset = DatasetDict({'train': train_data, 'test': test_data})"
   ]
  },
  {
   "cell_type": "code",
   "execution_count": 5,
   "id": "3e0c9212-50e4-4224-89b1-c4fca8d28d0c",
   "metadata": {},
   "outputs": [
    {
     "name": "stdout",
     "output_type": "stream",
     "text": [
      "Total parameters 1644928\n"
     ]
    }
   ],
   "source": [
    "from transformers import GPT2Config, GPT2LMHeadModel\n",
    "\n",
    "config = GPT2Config(vocab_size=len(tokenizer), n_positions=max_tokens, n_embd=128, n_layer=8, n_head=8, \n",
    "                    bos_token_id=tokenizer.eos_token_id, eos_token_id=tokenizer.eos_token_id)\n",
    "model = GPT2LMHeadModel(config)\n",
    "print('Total parameters {0}'.format(sum(p.numel() for p in model.parameters())))"
   ]
  },
  {
   "cell_type": "code",
   "execution_count": 9,
   "id": "7cc7d4e2-d3b8-40d1-aa96-ecbaf4b485af",
   "metadata": {},
   "outputs": [
    {
     "name": "stderr",
     "output_type": "stream",
     "text": [
      "Detected kernel version 3.10.0, which is below the recommended minimum of 5.5.0; this can cause the process to hang. It is recommended to upgrade the kernel to the minimum version or higher.\n",
      "max_steps is given, it will override any value given in num_train_epochs\n"
     ]
    }
   ],
   "source": [
    "from transformers import DataCollatorForLanguageModeling\n",
    "from transformers import Trainer, TrainingArguments\n",
    "\n",
    "epoch_num = 2\n",
    "batch_size = 64\n",
    "max_steps = (epoch_num * len(train_tok)) // batch_size\n",
    "\n",
    "collator = DataCollatorForLanguageModeling(tokenizer=tokenizer, mlm=False, pad_to_multiple_of=8)\n",
    "\n",
    "training_args = TrainingArguments(\n",
    "    output_dir=\"./augapply-output-repeat-3-rightpad\",\n",
    "    max_steps=max_steps,\n",
    "    per_device_train_batch_size=batch_size,\n",
    "    per_device_eval_batch_size=64,\n",
    "    eval_strategy=\"steps\",\n",
    "    save_steps=10000,\n",
    "    eval_steps=10000,\n",
    "    learning_rate=5e-4,\n",
    "    weight_decay=0.01,\n",
    "    lr_scheduler_type='cosine',\n",
    "    warmup_steps=3000,\n",
    "    logging_dir='./augapply-logs',\n",
    "    report_to='none'\n",
    ")\n",
    "\n",
    "trainer = Trainer(\n",
    "    model=model,\n",
    "    args=training_args,\n",
    "    train_dataset=dataset[\"train\"],\n",
    "    eval_dataset=dataset[\"test\"],\n",
    "    data_collator=collator,\n",
    ")"
   ]
  },
  {
   "cell_type": "code",
   "execution_count": 10,
   "id": "40ad1918-6302-4573-809a-ed851e05aef6",
   "metadata": {},
   "outputs": [
    {
     "data": {
      "text/html": [
       "\n",
       "    <div>\n",
       "      \n",
       "      <progress value='48839' max='48839' style='width:300px; height:20px; vertical-align: middle;'></progress>\n",
       "      [48839/48839 1:13:33, Epoch 2/3]\n",
       "    </div>\n",
       "    <table border=\"1\" class=\"dataframe\">\n",
       "  <thead>\n",
       " <tr style=\"text-align: left;\">\n",
       "      <th>Step</th>\n",
       "      <th>Training Loss</th>\n",
       "      <th>Validation Loss</th>\n",
       "    </tr>\n",
       "  </thead>\n",
       "  <tbody>\n",
       "    <tr>\n",
       "      <td>10000</td>\n",
       "      <td>0.369800</td>\n",
       "      <td>0.348954</td>\n",
       "    </tr>\n",
       "    <tr>\n",
       "      <td>20000</td>\n",
       "      <td>0.346600</td>\n",
       "      <td>0.336698</td>\n",
       "    </tr>\n",
       "    <tr>\n",
       "      <td>30000</td>\n",
       "      <td>0.337700</td>\n",
       "      <td>0.330884</td>\n",
       "    </tr>\n",
       "    <tr>\n",
       "      <td>40000</td>\n",
       "      <td>0.333300</td>\n",
       "      <td>0.326895</td>\n",
       "    </tr>\n",
       "  </tbody>\n",
       "</table><p>"
      ],
      "text/plain": [
       "<IPython.core.display.HTML object>"
      ]
     },
     "metadata": {},
     "output_type": "display_data"
    },
    {
     "data": {
      "text/plain": [
       "TrainOutput(global_step=48839, training_loss=0.37797720019922165, metrics={'train_runtime': 4413.9101, 'train_samples_per_second': 708.147, 'train_steps_per_second': 11.065, 'total_flos': 7196205717307392.0, 'train_loss': 0.37797720019922165, 'epoch': 2.000614451908897})"
      ]
     },
     "execution_count": 10,
     "metadata": {},
     "output_type": "execute_result"
    }
   ],
   "source": [
    "trainer.train()"
   ]
  },
  {
   "cell_type": "code",
   "execution_count": 15,
   "id": "dc7e69d5-48ac-46e0-9eef-581aed924087",
   "metadata": {},
   "outputs": [],
   "source": [
    "trainer.save_model('augapply-output-repeat-3-rightpad/checkpoint-48839')"
   ]
  },
  {
   "cell_type": "code",
   "execution_count": 14,
   "id": "d0b0a6ce-9d08-4ec3-82ce-915feb805cc7",
   "metadata": {},
   "outputs": [
    {
     "data": {
      "image/png": "[encoded data removed]",
      "text/plain": [
       "<Figure size 640x480 with 1 Axes>"
      ]
     },
     "metadata": {},
     "output_type": "display_data"
    }
   ],
   "source": [
    "plt.plot([x['loss'] for x in trainer.state.log_history if 'loss' in x][10:])\n",
    "plt.show()"
   ]
  },
  {
   "cell_type": "code",
   "execution_count": 17,
   "id": "5c20e5cb-8004-4993-9748-088dc586f6c6",
   "metadata": {},
   "outputs": [],
   "source": [
    "from transformers import GPT2Config, GPT2LMHeadModel\n",
    "\n",
    "model = GPT2LMHeadModel.from_pretrained('augapply-output-repeat-3-rightpad/checkpoint-48839').cuda()\n",
    "_ = model.eval()"
   ]
  },
  {
   "cell_type": "code",
   "execution_count": 18,
   "id": "a367c223-a3cd-4e08-ba80-2b1b9ebe62e4",
   "metadata": {},
   "outputs": [],
   "source": [
    "import torch\n",
    "from transformers import StoppingCriteria, StoppingCriteriaList\n",
    "\n",
    "class StoppingCriteriaQed(StoppingCriteria):\n",
    "    def __init__(self, stops = torch.tensor(tokenizer.encode('Qed.'), device='cuda'), encounters=1):\n",
    "        super().__init__()\n",
    "        self.stops = stops\n",
    "        self.encounters = encounters\n",
    "\n",
    "    def __call__(self, input_ids, scores):\n",
    "        stop_count = torch.all(input_ids[0].unfold(0, len(self.stops), 1) == self.stops, 1).sum().item()\n",
    "        return stop_count >= self.encounters"
   ]
  },
  {
   "cell_type": "code",
   "execution_count": 20,
   "id": "14b9d047-1bcb-460f-8e3c-c37fc1baf81d",
   "metadata": {},
   "outputs": [],
   "source": [
    "def pretty(string):\n",
    "    return ''.join(string.split('##'))\n",
    "\n",
    "def get_premise(theorem):\n",
    "    return theorem.split('.')[0] + '.'\n",
    "\n",
    "def generate(tokens):\n",
    "    theorems = [pretty(s) for s in tokenizer.batch_decode(tokens, skip_special_token=True)]\n",
    "    premises = [get_premise(theorem) for theorem in theorems]\n",
    "    model_inputs = tokenizer(premises, return_tensors='pt', padding=True).to('cuda')    \n",
    "    generated_ids = model.generate(**model_inputs, pad_token_id=tokenizer.eos_token_id, \n",
    "                                   max_length=max_tokens, num_beams=10, do_sample=True,\n",
    "                                   stopping_criteria=StoppingCriteriaList([StoppingCriteriaQed()]))\n",
    "    return [pretty(s) for s in tokenizer.batch_decode(generated_ids, skip_special_tokens=True)]\n",
    "\n",
    "def normalize_proof(proof):\n",
    "    norm = proof.split('Qed.')[0]\n",
    "    if norm[-1] != '\\n':\n",
    "        norm += '\\n'\n",
    "    norm += 'Qed.'\n",
    "    return norm"
   ]
  },
  {
   "cell_type": "code",
   "execution_count": 23,
   "id": "eea065dd-b4d2-4f5c-81b1-66db9338377f",
   "metadata": {},
   "outputs": [
    {
     "data": {
      "text/plain": [
       "27412"
      ]
     },
     "execution_count": 23,
     "metadata": {},
     "output_type": "execute_result"
    }
   ],
   "source": [
    "len(test_data)"
   ]
  },
  {
   "cell_type": "code",
   "execution_count": 22,
   "id": "eb1b7b7b-6d0c-4b90-9986-615809fa071b",
   "metadata": {},
   "outputs": [
    {
     "name": "stderr",
     "output_type": "stream",
     "text": [
      "  0%|          | 0/215 [00:00<?, ?it/s]A decoder-only architecture is being used, but right-padding was detected! For correct generation results, please set `padding_side='left'` when initializing the tokenizer.\n",
      "  0%|          | 1/215 [00:17<1:03:20, 17.76s/it]A decoder-only architecture is being used, but right-padding was detected! For correct generation results, please set `padding_side='left'` when initializing the tokenizer.\n",
      "  1%|          | 2/215 [00:30<52:39, 14.84s/it]  A decoder-only architecture is being used, but right-padding was detected! For correct generation results, please set `padding_side='left'` when initializing the tokenizer.\n",
      "  1%|▏         | 3/215 [00:43<48:44, 13.79s/it]A decoder-only architecture is being used, but right-padding was detected! For correct generation results, please set `padding_side='left'` when initializing the tokenizer.\n",
      "  2%|▏         | 4/215 [00:59<52:21, 14.89s/it]A decoder-only architecture is being used, but right-padding was detected! For correct generation results, please set `padding_side='left'` when initializing the tokenizer.\n",
      "  2%|▏         | 5/215 [01:15<53:24, 15.26s/it]A decoder-only architecture is being used, but right-padding was detected! For correct generation results, please set `padding_side='left'` when initializing the tokenizer.\n",
      "  3%|▎         | 6/215 [01:31<53:50, 15.46s/it]A decoder-only architecture is being used, but right-padding was detected! For correct generation results, please set `padding_side='left'` when initializing the tokenizer.\n",
      "  3%|▎         | 7/215 [01:49<56:32, 16.31s/it]A decoder-only architecture is being used, but right-padding was detected! For correct generation results, please set `padding_side='left'` when initializing the tokenizer.\n",
      "  4%|▎         | 8/215 [02:05<56:15, 16.30s/it]A decoder-only architecture is being used, but right-padding was detected! For correct generation results, please set `padding_side='left'` when initializing the tokenizer.\n",
      "  4%|▍         | 9/215 [02:22<56:48, 16.55s/it]A decoder-only architecture is being used, but right-padding was detected! For correct generation results, please set `padding_side='left'` when initializing the tokenizer.\n",
      "  5%|▍         | 10/215 [02:38<55:40, 16.29s/it]A decoder-only architecture is being used, but right-padding was detected! For correct generation results, please set `padding_side='left'` when initializing the tokenizer.\n",
      "  5%|▌         | 11/215 [02:57<58:13, 17.13s/it]A decoder-only architecture is being used, but right-padding was detected! For correct generation results, please set `padding_side='left'` when initializing the tokenizer.\n",
      "  6%|▌         | 12/215 [03:09<52:02, 15.38s/it]A decoder-only architecture is being used, but right-padding was detected! For correct generation results, please set `padding_side='left'` when initializing the tokenizer.\n",
      "  6%|▌         | 13/215 [03:20<47:54, 14.23s/it]A decoder-only architecture is being used, but right-padding was detected! For correct generation results, please set `padding_side='left'` when initializing the tokenizer.\n",
      "  7%|▋         | 14/215 [03:40<53:33, 15.99s/it]A decoder-only architecture is being used, but right-padding was detected! For correct generation results, please set `padding_side='left'` when initializing the tokenizer.\n",
      "  7%|▋         | 15/215 [03:54<50:57, 15.29s/it]A decoder-only architecture is being used, but right-padding was detected! For correct generation results, please set `padding_side='left'` when initializing the tokenizer.\n",
      "  7%|▋         | 16/215 [04:14<55:26, 16.72s/it]A decoder-only architecture is being used, but right-padding was detected! For correct generation results, please set `padding_side='left'` when initializing the tokenizer.\n",
      "  8%|▊         | 17/215 [04:28<53:06, 16.09s/it]A decoder-only architecture is being used, but right-padding was detected! For correct generation results, please set `padding_side='left'` when initializing the tokenizer.\n",
      "  8%|▊         | 18/215 [04:43<51:06, 15.57s/it]A decoder-only architecture is being used, but right-padding was detected! For correct generation results, please set `padding_side='left'` when initializing the tokenizer.\n",
      "  9%|▉         | 19/215 [05:00<52:18, 16.01s/it]A decoder-only architecture is being used, but right-padding was detected! For correct generation results, please set `padding_side='left'` when initializing the tokenizer.\n",
      "  9%|▉         | 20/215 [05:14<50:35, 15.57s/it]A decoder-only architecture is being used, but right-padding was detected! For correct generation results, please set `padding_side='left'` when initializing the tokenizer.\n",
      " 10%|▉         | 21/215 [05:36<56:00, 17.32s/it]A decoder-only architecture is being used, but right-padding was detected! For correct generation results, please set `padding_side='left'` when initializing the tokenizer.\n",
      " 10%|█         | 22/215 [05:52<54:30, 16.95s/it]A decoder-only architecture is being used, but right-padding was detected! For correct generation results, please set `padding_side='left'` when initializing the tokenizer.\n",
      " 11%|█         | 23/215 [06:10<55:15, 17.27s/it]A decoder-only architecture is being used, but right-padding was detected! For correct generation results, please set `padding_side='left'` when initializing the tokenizer.\n",
      " 11%|█         | 24/215 [06:23<50:59, 16.02s/it]A decoder-only architecture is being used, but right-padding was detected! For correct generation results, please set `padding_side='left'` when initializing the tokenizer.\n",
      " 12%|█▏        | 25/215 [06:38<49:22, 15.59s/it]A decoder-only architecture is being used, but right-padding was detected! For correct generation results, please set `padding_side='left'` when initializing the tokenizer.\n",
      " 12%|█▏        | 26/215 [06:56<51:55, 16.48s/it]A decoder-only architecture is being used, but right-padding was detected! For correct generation results, please set `padding_side='left'` when initializing the tokenizer.\n",
      " 13%|█▎        | 27/215 [07:10<48:47, 15.57s/it]A decoder-only architecture is being used, but right-padding was detected! For correct generation results, please set `padding_side='left'` when initializing the tokenizer.\n",
      " 13%|█▎        | 28/215 [07:20<43:36, 13.99s/it]A decoder-only architecture is being used, but right-padding was detected! For correct generation results, please set `padding_side='left'` when initializing the tokenizer.\n",
      " 13%|█▎        | 29/215 [07:39<48:26, 15.63s/it]A decoder-only architecture is being used, but right-padding was detected! For correct generation results, please set `padding_side='left'` when initializing the tokenizer.\n",
      " 14%|█▍        | 30/215 [07:58<50:56, 16.52s/it]A decoder-only architecture is being used, but right-padding was detected! For correct generation results, please set `padding_side='left'` when initializing the tokenizer.\n",
      " 14%|█▍        | 31/215 [08:15<51:14, 16.71s/it]A decoder-only architecture is being used, but right-padding was detected! For correct generation results, please set `padding_side='left'` when initializing the tokenizer.\n",
      " 15%|█▍        | 32/215 [08:29<48:05, 15.77s/it]A decoder-only architecture is being used, but right-padding was detected! For correct generation results, please set `padding_side='left'` when initializing the tokenizer.\n",
      " 15%|█▌        | 33/215 [08:48<50:50, 16.76s/it]A decoder-only architecture is being used, but right-padding was detected! For correct generation results, please set `padding_side='left'` when initializing the tokenizer.\n",
      " 16%|█▌        | 34/215 [09:09<54:41, 18.13s/it]A decoder-only architecture is being used, but right-padding was detected! For correct generation results, please set `padding_side='left'` when initializing the tokenizer.\n",
      " 16%|█▋        | 35/215 [09:23<50:54, 16.97s/it]A decoder-only architecture is being used, but right-padding was detected! For correct generation results, please set `padding_side='left'` when initializing the tokenizer.\n",
      " 17%|█▋        | 36/215 [09:31<42:37, 14.29s/it]A decoder-only architecture is being used, but right-padding was detected! For correct generation results, please set `padding_side='left'` when initializing the tokenizer.\n",
      " 17%|█▋        | 37/215 [09:49<45:35, 15.37s/it]A decoder-only architecture is being used, but right-padding was detected! For correct generation results, please set `padding_side='left'` when initializing the tokenizer.\n",
      " 18%|█▊        | 38/215 [10:11<50:49, 17.23s/it]A decoder-only architecture is being used, but right-padding was detected! For correct generation results, please set `padding_side='left'` when initializing the tokenizer.\n",
      " 18%|█▊        | 39/215 [10:29<51:03, 17.41s/it]A decoder-only architecture is being used, but right-padding was detected! For correct generation results, please set `padding_side='left'` when initializing the tokenizer.\n",
      " 19%|█▊        | 40/215 [10:48<52:42, 18.07s/it]A decoder-only architecture is being used, but right-padding was detected! For correct generation results, please set `padding_side='left'` when initializing the tokenizer.\n",
      " 19%|█▉        | 41/215 [11:10<55:26, 19.12s/it]A decoder-only architecture is being used, but right-padding was detected! For correct generation results, please set `padding_side='left'` when initializing the tokenizer.\n",
      " 20%|█▉        | 42/215 [11:26<52:50, 18.32s/it]A decoder-only architecture is being used, but right-padding was detected! For correct generation results, please set `padding_side='left'` when initializing the tokenizer.\n",
      " 20%|██        | 43/215 [11:45<52:51, 18.44s/it]A decoder-only architecture is being used, but right-padding was detected! For correct generation results, please set `padding_side='left'` when initializing the tokenizer.\n",
      " 20%|██        | 44/215 [11:52<42:34, 14.94s/it]A decoder-only architecture is being used, but right-padding was detected! For correct generation results, please set `padding_side='left'` when initializing the tokenizer.\n",
      " 21%|██        | 45/215 [12:02<38:04, 13.44s/it]A decoder-only architecture is being used, but right-padding was detected! For correct generation results, please set `padding_side='left'` when initializing the tokenizer.\n",
      " 21%|██▏       | 46/215 [12:20<41:47, 14.84s/it]A decoder-only architecture is being used, but right-padding was detected! For correct generation results, please set `padding_side='left'` when initializing the tokenizer.\n",
      " 22%|██▏       | 47/215 [12:38<44:25, 15.87s/it]A decoder-only architecture is being used, but right-padding was detected! For correct generation results, please set `padding_side='left'` when initializing the tokenizer.\n",
      " 22%|██▏       | 48/215 [12:58<47:28, 17.06s/it]A decoder-only architecture is being used, but right-padding was detected! For correct generation results, please set `padding_side='left'` when initializing the tokenizer.\n",
      " 23%|██▎       | 49/215 [13:15<47:00, 16.99s/it]A decoder-only architecture is being used, but right-padding was detected! For correct generation results, please set `padding_side='left'` when initializing the tokenizer.\n",
      " 23%|██▎       | 50/215 [13:32<46:38, 16.96s/it]A decoder-only architecture is being used, but right-padding was detected! For correct generation results, please set `padding_side='left'` when initializing the tokenizer.\n",
      " 24%|██▎       | 51/215 [13:44<42:29, 15.55s/it]A decoder-only architecture is being used, but right-padding was detected! For correct generation results, please set `padding_side='left'` when initializing the tokenizer.\n",
      " 24%|██▍       | 52/215 [14:00<42:55, 15.80s/it]A decoder-only architecture is being used, but right-padding was detected! For correct generation results, please set `padding_side='left'` when initializing the tokenizer.\n",
      " 25%|██▍       | 53/215 [14:19<44:41, 16.55s/it]A decoder-only architecture is being used, but right-padding was detected! For correct generation results, please set `padding_side='left'` when initializing the tokenizer.\n",
      " 25%|██▌       | 54/215 [14:32<41:55, 15.62s/it]A decoder-only architecture is being used, but right-padding was detected! For correct generation results, please set `padding_side='left'` when initializing the tokenizer.\n",
      " 26%|██▌       | 55/215 [14:51<44:06, 16.54s/it]A decoder-only architecture is being used, but right-padding was detected! For correct generation results, please set `padding_side='left'` when initializing the tokenizer.\n",
      " 26%|██▌       | 56/215 [15:04<40:54, 15.44s/it]A decoder-only architecture is being used, but right-padding was detected! For correct generation results, please set `padding_side='left'` when initializing the tokenizer.\n",
      " 27%|██▋       | 57/215 [15:19<40:21, 15.33s/it]A decoder-only architecture is being used, but right-padding was detected! For correct generation results, please set `padding_side='left'` when initializing the tokenizer.\n",
      " 27%|██▋       | 58/215 [15:36<41:38, 15.92s/it]A decoder-only architecture is being used, but right-padding was detected! For correct generation results, please set `padding_side='left'` when initializing the tokenizer.\n",
      " 27%|██▋       | 59/215 [15:55<44:02, 16.94s/it]A decoder-only architecture is being used, but right-padding was detected! For correct generation results, please set `padding_side='left'` when initializing the tokenizer.\n",
      " 28%|██▊       | 60/215 [16:14<45:01, 17.43s/it]A decoder-only architecture is being used, but right-padding was detected! For correct generation results, please set `padding_side='left'` when initializing the tokenizer.\n",
      " 28%|██▊       | 61/215 [16:33<46:12, 18.01s/it]A decoder-only architecture is being used, but right-padding was detected! For correct generation results, please set `padding_side='left'` when initializing the tokenizer.\n",
      " 29%|██▉       | 62/215 [16:52<46:14, 18.14s/it]A decoder-only architecture is being used, but right-padding was detected! For correct generation results, please set `padding_side='left'` when initializing the tokenizer.\n",
      " 29%|██▉       | 63/215 [17:02<39:50, 15.72s/it]A decoder-only architecture is being used, but right-padding was detected! For correct generation results, please set `padding_side='left'` when initializing the tokenizer.\n",
      " 30%|██▉       | 64/215 [17:11<34:31, 13.72s/it]A decoder-only architecture is being used, but right-padding was detected! For correct generation results, please set `padding_side='left'` when initializing the tokenizer.\n",
      " 30%|███       | 65/215 [17:30<38:14, 15.29s/it]A decoder-only architecture is being used, but right-padding was detected! For correct generation results, please set `padding_side='left'` when initializing the tokenizer.\n",
      " 31%|███       | 66/215 [17:43<36:32, 14.72s/it]A decoder-only architecture is being used, but right-padding was detected! For correct generation results, please set `padding_side='left'` when initializing the tokenizer.\n",
      " 31%|███       | 67/215 [17:58<36:31, 14.80s/it]A decoder-only architecture is being used, but right-padding was detected! For correct generation results, please set `padding_side='left'` when initializing the tokenizer.\n",
      " 32%|███▏      | 68/215 [18:16<38:19, 15.64s/it]A decoder-only architecture is being used, but right-padding was detected! For correct generation results, please set `padding_side='left'` when initializing the tokenizer.\n",
      " 32%|███▏      | 69/215 [18:34<40:14, 16.54s/it]A decoder-only architecture is being used, but right-padding was detected! For correct generation results, please set `padding_side='left'` when initializing the tokenizer.\n",
      " 33%|███▎      | 70/215 [18:50<39:35, 16.38s/it]A decoder-only architecture is being used, but right-padding was detected! For correct generation results, please set `padding_side='left'` when initializing the tokenizer.\n",
      " 33%|███▎      | 71/215 [19:02<36:09, 15.06s/it]A decoder-only architecture is being used, but right-padding was detected! For correct generation results, please set `padding_side='left'` when initializing the tokenizer.\n",
      " 33%|███▎      | 72/215 [19:18<36:20, 15.25s/it]A decoder-only architecture is being used, but right-padding was detected! For correct generation results, please set `padding_side='left'` when initializing the tokenizer.\n",
      " 34%|███▍      | 73/215 [19:34<36:53, 15.59s/it]A decoder-only architecture is being used, but right-padding was detected! For correct generation results, please set `padding_side='left'` when initializing the tokenizer.\n",
      " 34%|███▍      | 74/215 [19:54<39:12, 16.69s/it]A decoder-only architecture is being used, but right-padding was detected! For correct generation results, please set `padding_side='left'` when initializing the tokenizer.\n",
      " 35%|███▍      | 75/215 [20:07<36:32, 15.66s/it]A decoder-only architecture is being used, but right-padding was detected! For correct generation results, please set `padding_side='left'` when initializing the tokenizer.\n",
      " 35%|███▌      | 76/215 [20:25<38:11, 16.48s/it]A decoder-only architecture is being used, but right-padding was detected! For correct generation results, please set `padding_side='left'` when initializing the tokenizer.\n",
      " 36%|███▌      | 77/215 [20:42<38:12, 16.61s/it]A decoder-only architecture is being used, but right-padding was detected! For correct generation results, please set `padding_side='left'` when initializing the tokenizer.\n",
      " 36%|███▋      | 78/215 [20:56<36:15, 15.88s/it]A decoder-only architecture is being used, but right-padding was detected! For correct generation results, please set `padding_side='left'` when initializing the tokenizer.\n",
      " 37%|███▋      | 79/215 [21:17<39:30, 17.43s/it]A decoder-only architecture is being used, but right-padding was detected! For correct generation results, please set `padding_side='left'` when initializing the tokenizer.\n",
      " 37%|███▋      | 80/215 [21:35<39:26, 17.53s/it]A decoder-only architecture is being used, but right-padding was detected! For correct generation results, please set `padding_side='left'` when initializing the tokenizer.\n",
      " 38%|███▊      | 81/215 [21:48<35:58, 16.11s/it]A decoder-only architecture is being used, but right-padding was detected! For correct generation results, please set `padding_side='left'` when initializing the tokenizer.\n",
      " 38%|███▊      | 82/215 [22:02<34:10, 15.42s/it]A decoder-only architecture is being used, but right-padding was detected! For correct generation results, please set `padding_side='left'` when initializing the tokenizer.\n",
      " 39%|███▊      | 83/215 [22:16<33:01, 15.01s/it]A decoder-only architecture is being used, but right-padding was detected! For correct generation results, please set `padding_side='left'` when initializing the tokenizer.\n",
      " 39%|███▉      | 84/215 [22:34<34:51, 15.97s/it]A decoder-only architecture is being used, but right-padding was detected! For correct generation results, please set `padding_side='left'` when initializing the tokenizer.\n",
      " 40%|███▉      | 85/215 [22:53<36:12, 16.71s/it]A decoder-only architecture is being used, but right-padding was detected! For correct generation results, please set `padding_side='left'` when initializing the tokenizer.\n",
      " 40%|████      | 86/215 [23:09<36:00, 16.75s/it]A decoder-only architecture is being used, but right-padding was detected! For correct generation results, please set `padding_side='left'` when initializing the tokenizer.\n",
      " 40%|████      | 87/215 [23:24<34:16, 16.07s/it]A decoder-only architecture is being used, but right-padding was detected! For correct generation results, please set `padding_side='left'` when initializing the tokenizer.\n",
      " 41%|████      | 88/215 [23:39<33:20, 15.75s/it]A decoder-only architecture is being used, but right-padding was detected! For correct generation results, please set `padding_side='left'` when initializing the tokenizer.\n",
      " 41%|████▏     | 89/215 [23:56<33:50, 16.12s/it]A decoder-only architecture is being used, but right-padding was detected! For correct generation results, please set `padding_side='left'` when initializing the tokenizer.\n",
      " 42%|████▏     | 90/215 [24:09<32:01, 15.37s/it]A decoder-only architecture is being used, but right-padding was detected! For correct generation results, please set `padding_side='left'` when initializing the tokenizer.\n",
      " 42%|████▏     | 91/215 [24:25<31:46, 15.38s/it]A decoder-only architecture is being used, but right-padding was detected! For correct generation results, please set `padding_side='left'` when initializing the tokenizer.\n",
      " 43%|████▎     | 92/215 [24:45<34:26, 16.80s/it]A decoder-only architecture is being used, but right-padding was detected! For correct generation results, please set `padding_side='left'` when initializing the tokenizer.\n",
      " 43%|████▎     | 93/215 [25:05<35:53, 17.65s/it]A decoder-only architecture is being used, but right-padding was detected! For correct generation results, please set `padding_side='left'` when initializing the tokenizer.\n",
      " 44%|████▎     | 94/215 [25:24<36:28, 18.08s/it]A decoder-only architecture is being used, but right-padding was detected! For correct generation results, please set `padding_side='left'` when initializing the tokenizer.\n",
      " 44%|████▍     | 95/215 [25:40<35:20, 17.67s/it]A decoder-only architecture is being used, but right-padding was detected! For correct generation results, please set `padding_side='left'` when initializing the tokenizer.\n",
      " 45%|████▍     | 96/215 [25:55<33:06, 16.69s/it]A decoder-only architecture is being used, but right-padding was detected! For correct generation results, please set `padding_side='left'` when initializing the tokenizer.\n",
      " 45%|████▌     | 97/215 [26:14<34:08, 17.36s/it]A decoder-only architecture is being used, but right-padding was detected! For correct generation results, please set `padding_side='left'` when initializing the tokenizer.\n",
      " 46%|████▌     | 98/215 [26:26<30:35, 15.68s/it]A decoder-only architecture is being used, but right-padding was detected! For correct generation results, please set `padding_side='left'` when initializing the tokenizer.\n",
      " 46%|████▌     | 99/215 [26:38<28:39, 14.82s/it]A decoder-only architecture is being used, but right-padding was detected! For correct generation results, please set `padding_side='left'` when initializing the tokenizer.\n",
      " 47%|████▋     | 100/215 [26:56<29:52, 15.59s/it]A decoder-only architecture is being used, but right-padding was detected! For correct generation results, please set `padding_side='left'` when initializing the tokenizer.\n",
      " 47%|████▋     | 101/215 [27:14<31:17, 16.47s/it]A decoder-only architecture is being used, but right-padding was detected! For correct generation results, please set `padding_side='left'` when initializing the tokenizer.\n",
      " 47%|████▋     | 102/215 [27:30<30:23, 16.13s/it]A decoder-only architecture is being used, but right-padding was detected! For correct generation results, please set `padding_side='left'` when initializing the tokenizer.\n",
      " 48%|████▊     | 103/215 [27:51<32:56, 17.64s/it]A decoder-only architecture is being used, but right-padding was detected! For correct generation results, please set `padding_side='left'` when initializing the tokenizer.\n",
      " 48%|████▊     | 104/215 [28:06<31:29, 17.03s/it]A decoder-only architecture is being used, but right-padding was detected! For correct generation results, please set `padding_side='left'` when initializing the tokenizer.\n",
      " 49%|████▉     | 105/215 [28:21<30:10, 16.46s/it]A decoder-only architecture is being used, but right-padding was detected! For correct generation results, please set `padding_side='left'` when initializing the tokenizer.\n",
      " 49%|████▉     | 106/215 [28:41<31:20, 17.25s/it]A decoder-only architecture is being used, but right-padding was detected! For correct generation results, please set `padding_side='left'` when initializing the tokenizer.\n",
      " 50%|████▉     | 107/215 [28:55<29:46, 16.54s/it]A decoder-only architecture is being used, but right-padding was detected! For correct generation results, please set `padding_side='left'` when initializing the tokenizer.\n",
      " 50%|█████     | 108/215 [29:07<26:50, 15.05s/it]A decoder-only architecture is being used, but right-padding was detected! For correct generation results, please set `padding_side='left'` when initializing the tokenizer.\n",
      " 51%|█████     | 109/215 [29:24<27:33, 15.59s/it]A decoder-only architecture is being used, but right-padding was detected! For correct generation results, please set `padding_side='left'` when initializing the tokenizer.\n",
      " 51%|█████     | 110/215 [29:43<29:06, 16.63s/it]A decoder-only architecture is being used, but right-padding was detected! For correct generation results, please set `padding_side='left'` when initializing the tokenizer.\n",
      " 52%|█████▏    | 111/215 [30:01<29:43, 17.15s/it]A decoder-only architecture is being used, but right-padding was detected! For correct generation results, please set `padding_side='left'` when initializing the tokenizer.\n",
      " 52%|█████▏    | 112/215 [30:20<30:20, 17.68s/it]A decoder-only architecture is being used, but right-padding was detected! For correct generation results, please set `padding_side='left'` when initializing the tokenizer.\n",
      " 53%|█████▎    | 113/215 [30:31<26:40, 15.69s/it]A decoder-only architecture is being used, but right-padding was detected! For correct generation results, please set `padding_side='left'` when initializing the tokenizer.\n",
      " 53%|█████▎    | 114/215 [30:51<28:37, 17.00s/it]A decoder-only architecture is being used, but right-padding was detected! For correct generation results, please set `padding_side='left'` when initializing the tokenizer.\n",
      " 53%|█████▎    | 115/215 [31:10<29:10, 17.50s/it]A decoder-only architecture is being used, but right-padding was detected! For correct generation results, please set `padding_side='left'` when initializing the tokenizer.\n",
      " 54%|█████▍    | 116/215 [31:25<27:47, 16.84s/it]A decoder-only architecture is being used, but right-padding was detected! For correct generation results, please set `padding_side='left'` when initializing the tokenizer.\n",
      " 54%|█████▍    | 117/215 [31:42<27:31, 16.85s/it]A decoder-only architecture is being used, but right-padding was detected! For correct generation results, please set `padding_side='left'` when initializing the tokenizer.\n",
      " 55%|█████▍    | 118/215 [31:56<26:00, 16.09s/it]A decoder-only architecture is being used, but right-padding was detected! For correct generation results, please set `padding_side='left'` when initializing the tokenizer.\n",
      " 55%|█████▌    | 119/215 [32:19<28:51, 18.04s/it]A decoder-only architecture is being used, but right-padding was detected! For correct generation results, please set `padding_side='left'` when initializing the tokenizer.\n",
      " 56%|█████▌    | 120/215 [32:36<27:54, 17.62s/it]A decoder-only architecture is being used, but right-padding was detected! For correct generation results, please set `padding_side='left'` when initializing the tokenizer.\n",
      " 56%|█████▋    | 121/215 [32:50<26:02, 16.62s/it]A decoder-only architecture is being used, but right-padding was detected! For correct generation results, please set `padding_side='left'` when initializing the tokenizer.\n",
      " 57%|█████▋    | 122/215 [33:08<26:30, 17.10s/it]A decoder-only architecture is being used, but right-padding was detected! For correct generation results, please set `padding_side='left'` when initializing the tokenizer.\n",
      " 57%|█████▋    | 123/215 [33:20<23:55, 15.60s/it]A decoder-only architecture is being used, but right-padding was detected! For correct generation results, please set `padding_side='left'` when initializing the tokenizer.\n",
      " 58%|█████▊    | 124/215 [33:39<24:53, 16.41s/it]A decoder-only architecture is being used, but right-padding was detected! For correct generation results, please set `padding_side='left'` when initializing the tokenizer.\n",
      " 58%|█████▊    | 125/215 [33:51<22:42, 15.14s/it]A decoder-only architecture is being used, but right-padding was detected! For correct generation results, please set `padding_side='left'` when initializing the tokenizer.\n",
      " 59%|█████▊    | 126/215 [33:59<19:10, 12.93s/it]A decoder-only architecture is being used, but right-padding was detected! For correct generation results, please set `padding_side='left'` when initializing the tokenizer.\n",
      " 59%|█████▉    | 127/215 [34:16<21:04, 14.36s/it]A decoder-only architecture is being used, but right-padding was detected! For correct generation results, please set `padding_side='left'` when initializing the tokenizer.\n",
      " 60%|█████▉    | 128/215 [34:34<22:23, 15.45s/it]A decoder-only architecture is being used, but right-padding was detected! For correct generation results, please set `padding_side='left'` when initializing the tokenizer.\n",
      " 60%|██████    | 129/215 [34:55<24:21, 17.00s/it]A decoder-only architecture is being used, but right-padding was detected! For correct generation results, please set `padding_side='left'` when initializing the tokenizer.\n",
      " 60%|██████    | 130/215 [35:09<22:59, 16.23s/it]A decoder-only architecture is being used, but right-padding was detected! For correct generation results, please set `padding_side='left'` when initializing the tokenizer.\n",
      " 61%|██████    | 131/215 [35:18<19:45, 14.12s/it]A decoder-only architecture is being used, but right-padding was detected! For correct generation results, please set `padding_side='left'` when initializing the tokenizer.\n",
      " 61%|██████▏   | 132/215 [35:32<19:06, 13.81s/it]A decoder-only architecture is being used, but right-padding was detected! For correct generation results, please set `padding_side='left'` when initializing the tokenizer.\n",
      " 62%|██████▏   | 133/215 [35:50<20:52, 15.27s/it]A decoder-only architecture is being used, but right-padding was detected! For correct generation results, please set `padding_side='left'` when initializing the tokenizer.\n",
      " 62%|██████▏   | 134/215 [36:09<22:06, 16.38s/it]A decoder-only architecture is being used, but right-padding was detected! For correct generation results, please set `padding_side='left'` when initializing the tokenizer.\n",
      " 63%|██████▎   | 135/215 [36:24<21:21, 16.02s/it]A decoder-only architecture is being used, but right-padding was detected! For correct generation results, please set `padding_side='left'` when initializing the tokenizer.\n",
      " 63%|██████▎   | 136/215 [36:39<20:39, 15.69s/it]A decoder-only architecture is being used, but right-padding was detected! For correct generation results, please set `padding_side='left'` when initializing the tokenizer.\n",
      " 64%|██████▎   | 137/215 [37:04<23:53, 18.38s/it]A decoder-only architecture is being used, but right-padding was detected! For correct generation results, please set `padding_side='left'` when initializing the tokenizer.\n",
      " 64%|██████▍   | 138/215 [37:20<22:49, 17.79s/it]A decoder-only architecture is being used, but right-padding was detected! For correct generation results, please set `padding_side='left'` when initializing the tokenizer.\n",
      " 65%|██████▍   | 139/215 [37:59<30:26, 24.04s/it]A decoder-only architecture is being used, but right-padding was detected! For correct generation results, please set `padding_side='left'` when initializing the tokenizer.\n",
      " 65%|██████▌   | 140/215 [40:29<1:17:14, 61.80s/it]A decoder-only architecture is being used, but right-padding was detected! For correct generation results, please set `padding_side='left'` when initializing the tokenizer.\n",
      " 66%|██████▌   | 141/215 [42:53<1:46:29, 86.35s/it]A decoder-only architecture is being used, but right-padding was detected! For correct generation results, please set `padding_side='left'` when initializing the tokenizer.\n",
      " 66%|██████▌   | 142/215 [43:22<1:24:14, 69.24s/it]A decoder-only architecture is being used, but right-padding was detected! For correct generation results, please set `padding_side='left'` when initializing the tokenizer.\n",
      " 67%|██████▋   | 143/215 [43:39<1:04:13, 53.53s/it]A decoder-only architecture is being used, but right-padding was detected! For correct generation results, please set `padding_side='left'` when initializing the tokenizer.\n",
      " 67%|██████▋   | 144/215 [43:58<51:09, 43.23s/it]  A decoder-only architecture is being used, but right-padding was detected! For correct generation results, please set `padding_side='left'` when initializing the tokenizer.\n",
      " 67%|██████▋   | 145/215 [44:14<41:01, 35.16s/it]A decoder-only architecture is being used, but right-padding was detected! For correct generation results, please set `padding_side='left'` when initializing the tokenizer.\n",
      " 68%|██████▊   | 146/215 [44:33<34:49, 30.29s/it]A decoder-only architecture is being used, but right-padding was detected! For correct generation results, please set `padding_side='left'` when initializing the tokenizer.\n",
      " 68%|██████▊   | 147/215 [44:47<28:52, 25.48s/it]A decoder-only architecture is being used, but right-padding was detected! For correct generation results, please set `padding_side='left'` when initializing the tokenizer.\n",
      " 69%|██████▉   | 148/215 [45:00<24:07, 21.61s/it]A decoder-only architecture is being used, but right-padding was detected! For correct generation results, please set `padding_side='left'` when initializing the tokenizer.\n",
      " 69%|██████▉   | 149/215 [45:14<21:17, 19.36s/it]A decoder-only architecture is being used, but right-padding was detected! For correct generation results, please set `padding_side='left'` when initializing the tokenizer.\n",
      " 70%|██████▉   | 150/215 [45:33<20:44, 19.14s/it]A decoder-only architecture is being used, but right-padding was detected! For correct generation results, please set `padding_side='left'` when initializing the tokenizer.\n",
      " 70%|███████   | 151/215 [45:45<18:12, 17.08s/it]A decoder-only architecture is being used, but right-padding was detected! For correct generation results, please set `padding_side='left'` when initializing the tokenizer.\n",
      " 71%|███████   | 152/215 [45:59<16:59, 16.18s/it]A decoder-only architecture is being used, but right-padding was detected! For correct generation results, please set `padding_side='left'` when initializing the tokenizer.\n",
      " 71%|███████   | 153/215 [46:18<17:24, 16.85s/it]A decoder-only architecture is being used, but right-padding was detected! For correct generation results, please set `padding_side='left'` when initializing the tokenizer.\n",
      " 72%|███████▏  | 154/215 [46:34<17:00, 16.73s/it]A decoder-only architecture is being used, but right-padding was detected! For correct generation results, please set `padding_side='left'` when initializing the tokenizer.\n",
      " 72%|███████▏  | 155/215 [46:50<16:22, 16.38s/it]A decoder-only architecture is being used, but right-padding was detected! For correct generation results, please set `padding_side='left'` when initializing the tokenizer.\n",
      " 73%|███████▎  | 156/215 [47:07<16:23, 16.66s/it]A decoder-only architecture is being used, but right-padding was detected! For correct generation results, please set `padding_side='left'` when initializing the tokenizer.\n",
      " 73%|███████▎  | 157/215 [47:24<16:07, 16.68s/it]A decoder-only architecture is being used, but right-padding was detected! For correct generation results, please set `padding_side='left'` when initializing the tokenizer.\n",
      " 73%|███████▎  | 158/215 [47:43<16:36, 17.49s/it]A decoder-only architecture is being used, but right-padding was detected! For correct generation results, please set `padding_side='left'` when initializing the tokenizer.\n",
      " 74%|███████▍  | 159/215 [47:56<15:09, 16.24s/it]A decoder-only architecture is being used, but right-padding was detected! For correct generation results, please set `padding_side='left'` when initializing the tokenizer.\n",
      " 74%|███████▍  | 160/215 [48:08<13:41, 14.94s/it]A decoder-only architecture is being used, but right-padding was detected! For correct generation results, please set `padding_side='left'` when initializing the tokenizer.\n",
      " 75%|███████▍  | 161/215 [48:21<12:57, 14.40s/it]A decoder-only architecture is being used, but right-padding was detected! For correct generation results, please set `padding_side='left'` when initializing the tokenizer.\n",
      " 75%|███████▌  | 162/215 [48:32<11:43, 13.27s/it]A decoder-only architecture is being used, but right-padding was detected! For correct generation results, please set `padding_side='left'` when initializing the tokenizer.\n",
      " 76%|███████▌  | 163/215 [48:50<12:47, 14.76s/it]A decoder-only architecture is being used, but right-padding was detected! For correct generation results, please set `padding_side='left'` when initializing the tokenizer.\n",
      " 76%|███████▋  | 164/215 [49:08<13:14, 15.58s/it]A decoder-only architecture is being used, but right-padding was detected! For correct generation results, please set `padding_side='left'` when initializing the tokenizer.\n",
      " 77%|███████▋  | 165/215 [49:20<12:04, 14.49s/it]A decoder-only architecture is being used, but right-padding was detected! For correct generation results, please set `padding_side='left'` when initializing the tokenizer.\n",
      " 77%|███████▋  | 166/215 [49:36<12:18, 15.07s/it]A decoder-only architecture is being used, but right-padding was detected! For correct generation results, please set `padding_side='left'` when initializing the tokenizer.\n",
      " 78%|███████▊  | 167/215 [49:51<12:07, 15.16s/it]A decoder-only architecture is being used, but right-padding was detected! For correct generation results, please set `padding_side='left'` when initializing the tokenizer.\n",
      " 78%|███████▊  | 168/215 [50:13<13:19, 17.01s/it]A decoder-only architecture is being used, but right-padding was detected! For correct generation results, please set `padding_side='left'` when initializing the tokenizer.\n",
      " 79%|███████▊  | 169/215 [50:26<12:15, 15.99s/it]A decoder-only architecture is being used, but right-padding was detected! For correct generation results, please set `padding_side='left'` when initializing the tokenizer.\n",
      " 79%|███████▉  | 170/215 [50:45<12:38, 16.85s/it]A decoder-only architecture is being used, but right-padding was detected! For correct generation results, please set `padding_side='left'` when initializing the tokenizer.\n",
      " 80%|███████▉  | 171/215 [51:02<12:19, 16.82s/it]A decoder-only architecture is being used, but right-padding was detected! For correct generation results, please set `padding_side='left'` when initializing the tokenizer.\n",
      " 80%|████████  | 172/215 [51:19<12:07, 16.92s/it]A decoder-only architecture is being used, but right-padding was detected! For correct generation results, please set `padding_side='left'` when initializing the tokenizer.\n",
      " 80%|████████  | 173/215 [51:37<12:02, 17.20s/it]A decoder-only architecture is being used, but right-padding was detected! For correct generation results, please set `padding_side='left'` when initializing the tokenizer.\n",
      " 81%|████████  | 174/215 [51:52<11:15, 16.48s/it]A decoder-only architecture is being used, but right-padding was detected! For correct generation results, please set `padding_side='left'` when initializing the tokenizer.\n",
      " 81%|████████▏ | 175/215 [52:09<11:11, 16.78s/it]A decoder-only architecture is being used, but right-padding was detected! For correct generation results, please set `padding_side='left'` when initializing the tokenizer.\n",
      " 82%|████████▏ | 176/215 [52:23<10:15, 15.77s/it]A decoder-only architecture is being used, but right-padding was detected! For correct generation results, please set `padding_side='left'` when initializing the tokenizer.\n",
      " 82%|████████▏ | 177/215 [52:39<10:02, 15.86s/it]A decoder-only architecture is being used, but right-padding was detected! For correct generation results, please set `padding_side='left'` when initializing the tokenizer.\n",
      " 83%|████████▎ | 178/215 [52:56<10:05, 16.35s/it]A decoder-only architecture is being used, but right-padding was detected! For correct generation results, please set `padding_side='left'` when initializing the tokenizer.\n",
      " 83%|████████▎ | 179/215 [53:06<08:39, 14.43s/it]A decoder-only architecture is being used, but right-padding was detected! For correct generation results, please set `padding_side='left'` when initializing the tokenizer.\n",
      " 84%|████████▎ | 180/215 [53:18<07:55, 13.59s/it]A decoder-only architecture is being used, but right-padding was detected! For correct generation results, please set `padding_side='left'` when initializing the tokenizer.\n",
      " 84%|████████▍ | 181/215 [55:16<25:25, 44.86s/it]A decoder-only architecture is being used, but right-padding was detected! For correct generation results, please set `padding_side='left'` when initializing the tokenizer.\n",
      " 85%|████████▍ | 182/215 [55:37<20:50, 37.88s/it]A decoder-only architecture is being used, but right-padding was detected! For correct generation results, please set `padding_side='left'` when initializing the tokenizer.\n",
      " 85%|████████▌ | 183/215 [55:57<17:13, 32.30s/it]A decoder-only architecture is being used, but right-padding was detected! For correct generation results, please set `padding_side='left'` when initializing the tokenizer.\n",
      " 86%|████████▌ | 184/215 [56:10<13:43, 26.56s/it]A decoder-only architecture is being used, but right-padding was detected! For correct generation results, please set `padding_side='left'` when initializing the tokenizer.\n",
      " 86%|████████▌ | 185/215 [56:28<12:03, 24.12s/it]A decoder-only architecture is being used, but right-padding was detected! For correct generation results, please set `padding_side='left'` when initializing the tokenizer.\n",
      " 87%|████████▋ | 186/215 [56:46<10:42, 22.15s/it]A decoder-only architecture is being used, but right-padding was detected! For correct generation results, please set `padding_side='left'` when initializing the tokenizer.\n",
      " 87%|████████▋ | 187/215 [57:01<09:21, 20.04s/it]A decoder-only architecture is being used, but right-padding was detected! For correct generation results, please set `padding_side='left'` when initializing the tokenizer.\n",
      " 87%|████████▋ | 188/215 [57:15<08:11, 18.22s/it]A decoder-only architecture is being used, but right-padding was detected! For correct generation results, please set `padding_side='left'` when initializing the tokenizer.\n",
      " 88%|████████▊ | 189/215 [57:26<06:55, 15.98s/it]A decoder-only architecture is being used, but right-padding was detected! For correct generation results, please set `padding_side='left'` when initializing the tokenizer.\n",
      " 88%|████████▊ | 190/215 [58:25<12:08, 29.13s/it]A decoder-only architecture is being used, but right-padding was detected! For correct generation results, please set `padding_side='left'` when initializing the tokenizer.\n",
      " 89%|████████▉ | 191/215 [58:44<10:26, 26.09s/it]A decoder-only architecture is being used, but right-padding was detected! For correct generation results, please set `padding_side='left'` when initializing the tokenizer.\n",
      " 89%|████████▉ | 192/215 [59:02<09:05, 23.70s/it]A decoder-only architecture is being used, but right-padding was detected! For correct generation results, please set `padding_side='left'` when initializing the tokenizer.\n",
      " 90%|████████▉ | 193/215 [59:24<08:24, 22.91s/it]A decoder-only architecture is being used, but right-padding was detected! For correct generation results, please set `padding_side='left'` when initializing the tokenizer.\n",
      " 90%|█████████ | 194/215 [59:45<07:49, 22.36s/it]A decoder-only architecture is being used, but right-padding was detected! For correct generation results, please set `padding_side='left'` when initializing the tokenizer.\n",
      " 91%|█████████ | 195/215 [1:00:06<07:21, 22.05s/it]A decoder-only architecture is being used, but right-padding was detected! For correct generation results, please set `padding_side='left'` when initializing the tokenizer.\n",
      " 91%|█████████ | 196/215 [1:00:23<06:32, 20.66s/it]A decoder-only architecture is being used, but right-padding was detected! For correct generation results, please set `padding_side='left'` when initializing the tokenizer.\n",
      " 92%|█████████▏| 197/215 [1:00:33<05:11, 17.30s/it]A decoder-only architecture is being used, but right-padding was detected! For correct generation results, please set `padding_side='left'` when initializing the tokenizer.\n",
      " 92%|█████████▏| 198/215 [1:02:30<13:21, 47.15s/it]A decoder-only architecture is being used, but right-padding was detected! For correct generation results, please set `padding_side='left'` when initializing the tokenizer.\n",
      " 93%|█████████▎| 199/215 [1:04:45<19:37, 73.58s/it]A decoder-only architecture is being used, but right-padding was detected! For correct generation results, please set `padding_side='left'` when initializing the tokenizer.\n",
      " 93%|█████████▎| 200/215 [1:07:03<23:14, 92.95s/it]A decoder-only architecture is being used, but right-padding was detected! For correct generation results, please set `padding_side='left'` when initializing the tokenizer.\n",
      " 93%|█████████▎| 201/215 [1:08:41<22:01, 94.40s/it]A decoder-only architecture is being used, but right-padding was detected! For correct generation results, please set `padding_side='left'` when initializing the tokenizer.\n",
      " 94%|█████████▍| 202/215 [1:08:55<15:16, 70.49s/it]A decoder-only architecture is being used, but right-padding was detected! For correct generation results, please set `padding_side='left'` when initializing the tokenizer.\n",
      " 94%|█████████▍| 203/215 [1:09:15<11:01, 55.09s/it]A decoder-only architecture is being used, but right-padding was detected! For correct generation results, please set `padding_side='left'` when initializing the tokenizer.\n",
      " 95%|█████████▍| 204/215 [1:09:33<08:03, 43.98s/it]A decoder-only architecture is being used, but right-padding was detected! For correct generation results, please set `padding_side='left'` when initializing the tokenizer.\n",
      " 95%|█████████▌| 205/215 [1:09:46<05:49, 34.92s/it]A decoder-only architecture is being used, but right-padding was detected! For correct generation results, please set `padding_side='left'` when initializing the tokenizer.\n",
      " 96%|█████████▌| 206/215 [1:10:01<04:18, 28.71s/it]A decoder-only architecture is being used, but right-padding was detected! For correct generation results, please set `padding_side='left'` when initializing the tokenizer.\n",
      " 96%|█████████▋| 207/215 [1:10:11<03:04, 23.07s/it]A decoder-only architecture is being used, but right-padding was detected! For correct generation results, please set `padding_side='left'` when initializing the tokenizer.\n",
      " 97%|█████████▋| 208/215 [1:10:20<02:13, 19.03s/it]A decoder-only architecture is being used, but right-padding was detected! For correct generation results, please set `padding_side='left'` when initializing the tokenizer.\n",
      " 97%|█████████▋| 209/215 [1:10:40<01:55, 19.17s/it]A decoder-only architecture is being used, but right-padding was detected! For correct generation results, please set `padding_side='left'` when initializing the tokenizer.\n",
      " 98%|█████████▊| 210/215 [1:10:56<01:31, 18.21s/it]A decoder-only architecture is being used, but right-padding was detected! For correct generation results, please set `padding_side='left'` when initializing the tokenizer.\n",
      " 98%|█████████▊| 211/215 [1:11:08<01:05, 16.31s/it]A decoder-only architecture is being used, but right-padding was detected! For correct generation results, please set `padding_side='left'` when initializing the tokenizer.\n",
      " 99%|█████████▊| 212/215 [1:11:30<00:54, 18.07s/it]A decoder-only architecture is being used, but right-padding was detected! For correct generation results, please set `padding_side='left'` when initializing the tokenizer.\n",
      " 99%|█████████▉| 213/215 [1:11:51<00:38, 19.08s/it]A decoder-only architecture is being used, but right-padding was detected! For correct generation results, please set `padding_side='left'` when initializing the tokenizer.\n",
      "100%|█████████▉| 214/215 [1:12:13<00:19, 19.83s/it]A decoder-only architecture is being used, but right-padding was detected! For correct generation results, please set `padding_side='left'` when initializing the tokenizer.\n",
      "100%|██████████| 215/215 [1:12:16<00:00, 20.17s/it]\n"
     ]
    }
   ],
   "source": [
    "from tqdm import tqdm\n",
    "\n",
    "batch_size = 128\n",
    "data = test_data['input_ids'] \n",
    "#data = train_data['input_ids'][:12800*repeat:repeat]\n",
    "\n",
    "with open('augtest-repeat-3-rightpad.v', 'w') as f:\n",
    "    for i in tqdm(range(0, len(data), batch_size)):\n",
    "        proofs = generate(data[i: i + batch_size])\n",
    "        for proof in proofs:\n",
    "            print(normalize_proof(proof), file=f, flush=True)"
   ]
  },
  {
   "cell_type": "code",
   "execution_count": 15,
   "id": "204e76ce-5146-4a80-a336-61d3e877682a",
   "metadata": {},
   "outputs": [
    {
     "data": {
      "text/plain": [
       "1"
      ]
     },
     "execution_count": 15,
     "metadata": {},
     "output_type": "execute_result"
    }
   ],
   "source": [
    "1"
   ]
  },
  {
   "cell_type": "code",
   "execution_count": 52,
   "id": "1519864b-8ddd-4023-8910-dfc3c5598040",
   "metadata": {},
   "outputs": [
    {
     "data": {
      "image/png": "[encoded data removed]",
      "text/plain": [
       "<Figure size 640x480 with 1 Axes>"
      ]
     },
     "metadata": {},
     "output_type": "display_data"
    }
   ],
   "source": [
    "size = np.array([1, 2, 5, 10, 20, 50, 100])\n",
    "time = np.array([2.54, 2.65, 3.01, 3.53, 4.62, 7.91, 13.3])\n",
    "\n",
    "plt.plot(time / size)\n",
    "plt.show()"
   ]
  },
  {
   "cell_type": "code",
   "execution_count": 107,
   "id": "8d3e8aa5-94fa-4088-814b-da65e0666316",
   "metadata": {},
   "outputs": [
    {
     "name": "stderr",
     "output_type": "stream",
     "text": [
      "huggingface/tokenizers: The current process just got forked, after parallelism has already been used. Disabling parallelism to avoid deadlocks...\n",
      "To disable this warning, you can either:\n",
      "\t- Avoid using `tokenizers` before the fork if possible\n",
      "\t- Explicitly set the environment variable TOKENIZERS_PARALLELISM=(true | false)\n"
     ]
    },
    {
     "name": "stdout",
     "output_type": "stream",
     "text": [
      "Tue Jan 23 21:47:19 2024       \n",
      "+-----------------------------------------------------------------------------+\n",
      "| NVIDIA-SMI 520.61.05    Driver Version: 520.61.05    CUDA Version: 11.8     |\n",
      "|-------------------------------+----------------------+----------------------+\n",
      "| GPU  Name        Persistence-M| Bus-Id        Disp.A | Volatile Uncorr. ECC |\n",
      "| Fan  Temp  Perf  Pwr:Usage/Cap|         Memory-Usage | GPU-Util  Compute M. |\n",
      "|                               |                      |               MIG M. |\n",
      "|===============================+======================+======================|\n",
      "|   0  Tesla V100S-PCI...  Off  | 00000000:3B:00.0 Off |                    0 |\n",
      "| N/A   36C    P0    50W / 250W |  15344MiB / 32768MiB |    100%      Default |\n",
      "|                               |                      |                  N/A |\n",
      "+-------------------------------+----------------------+----------------------+\n",
      "|   1  Tesla V100S-PCI...  Off  | 00000000:AF:00.0 Off |                    0 |\n",
      "| N/A   30C    P0    24W / 250W |      0MiB / 32768MiB |      0%      Default |\n",
      "|                               |                      |                  N/A |\n",
      "+-------------------------------+----------------------+----------------------+\n",
      "                                                                               \n",
      "+-----------------------------------------------------------------------------+\n",
      "| Processes:                                                                  |\n",
      "|  GPU   GI   CI        PID   Type   Process name                  GPU Memory |\n",
      "|        ID   ID                                                   Usage      |\n",
      "|=============================================================================|\n",
      "|    0   N/A  N/A    109281      C   ...kyi/miniconda3/bin/python    15340MiB |\n",
      "+-----------------------------------------------------------------------------+\n"
     ]
    }
   ],
   "source": [
    "torch.cuda.empty_cache()\n",
    "!nvidia-smi"
   ]
  },
  {
   "cell_type": "code",
   "execution_count": 100,
   "id": "867b666b-e01d-406c-b596-b20255b14c10",
   "metadata": {},
   "outputs": [
    {
     "name": "stdout",
     "output_type": "stream",
     "text": [
      "Theorem weygig: forall (Z B E Q N : Prop), ((B -> Z) -> Z) -> (Z -> B) -> (B -> Q -> E) -> (Z -> Q) -> (B -> Q) -> (B -> N) -> (B -> N -> Q -> E) -> (E -> Z) -> E.\n",
      "Proof.\n",
      "intros Z B E Q N. intros HBZZ HZB HBQE HZQ HBQ HBN HBNQE HEZ. apply HBQE. \n",
      "  - apply HZB. apply HBZZ. intros HB. apply HEZ. apply HBQE. \n",
      "    + apply HB. \n",
      "    + apply HBQ. apply HB. \n",
      "  - apply HZQ. apply HBZZ. intros HB0. apply HEZ. apply HBQE. \n",
      "    + apply HB0. \n",
      "    + apply HBQ. apply HB0. \n",
      "Qed.\n"
     ]
    }
   ],
   "source": [
    "model_inputs = tokenizer(\"Theorem weygig: forall (Z B E Q N : Prop), ((B -> Z) -> Z) -> (Z -> B) -> (B -> Q -> E) -> (Z -> Q) -> (B -> Q) -> (B -> N) -> (B -> N -> Q -> E) -> (E -> Z) -> E.\", return_tensors=\"pt\").to(\"cuda\")\n",
    "generated_ids = model.generate(**model_inputs, pad_token_id=tokenizer.eos_token_id, max_length=256, num_beams=10, \n",
    "                               do_sample=True, stopping_criteria=StoppingCriteriaList([StoppingCriteriaQed()]))\n",
    "print(''.join(tokenizer.batch_decode(generated_ids, skip_special_tokens=True)[0].split('##')))"
   ]
  },
  {
   "cell_type": "code",
   "execution_count": 35,
   "id": "bbeb4e3f-cc78-43ae-8fe8-6baeba586c11",
   "metadata": {},
   "outputs": [
    {
     "data": {
      "text/plain": [
       "201"
      ]
     },
     "execution_count": 35,
     "metadata": {},
     "output_type": "execute_result"
    }
   ],
   "source": [
    "len(tokenizer)"
   ]
  },
  {
   "cell_type": "markdown",
   "id": "bff19f74-7c93-4788-a464-790363a2c411",
   "metadata": {},
   "source": [
    "train / val loss\n",
    "\n",
    "8 layer - 8 head - 256 emb - 6.5M - 0.2116 - 0.2092"
   ]
  },
  {
   "cell_type": "code",
   "execution_count": null,
   "id": "6b425a27-e9d1-40c6-81fc-e041f25b6d25",
   "metadata": {},
   "outputs": [],
   "source": []
  }
 ],
 "metadata": {
  "kernelspec": {
   "display_name": "Python 3 (ipykernel)",
   "language": "python",
   "name": "python3"
  },
  "language_info": {
   "codemirror_mode": {
    "name": "ipython",
    "version": 3
   },
   "file_extension": ".py",
   "mimetype": "text/x-python",
   "name": "python",
   "nbconvert_exporter": "python",
   "pygments_lexer": "ipython3",
   "version": "3.10.13"
  }
 },
 "nbformat": 4,
 "nbformat_minor": 5
}
