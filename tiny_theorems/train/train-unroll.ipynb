{
 "cells": [
  {
   "cell_type": "code",
   "execution_count": 1,
   "id": "dd228a52-a9d5-4b9d-bbf3-e7c81928eed4",
   "metadata": {},
   "outputs": [],
   "source": [
    "import numpy as np\n",
    "import matplotlib.pyplot as plt\n",
    "import pickle\n",
    "import torch"
   ]
  },
  {
   "cell_type": "markdown",
   "id": "5628f535-b23d-43a3-9950-399ad83c7ee2",
   "metadata": {},
   "source": [
    "## Tokenizer"
   ]
  },
  {
   "cell_type": "code",
   "execution_count": 17,
   "id": "c590ebf6-03cb-43c4-854f-19afacac7608",
   "metadata": {},
   "outputs": [],
   "source": [
    "from tokenizers import decoders, models, normalizers, pre_tokenizers, processors, trainers, Tokenizer\n",
    "\n",
    "tokenizer = Tokenizer(models.WordPiece(unk_token=\"[UNK]\"))\n",
    "tokenizer.pre_tokenizer = pre_tokenizers.ByteLevel(add_prefix_space=False)\n",
    "special_tokens = [\"[UNK]\", \"[PAD]\", \"[CLS]\", \"[SEP]\", \"[MASK]\", \"[HYP]\", \"[GOAL]\", \"[TACTIC]\"]\n",
    "trainer = trainers.WordPieceTrainer(vocab_size=200, special_tokens=special_tokens)"
   ]
  },
  {
   "cell_type": "code",
   "execution_count": 18,
   "id": "99d87e59-6250-4823-a90d-691fe3f60f59",
   "metadata": {},
   "outputs": [
    {
     "name": "stdout",
     "output_type": "stream",
     "text": [
      "\n",
      "\n",
      "\n"
     ]
    }
   ],
   "source": [
    "files = ['../dataset/unroll.v']\n",
    "\n",
    "def dataset_iterator():\n",
    "    for path in files:\n",
    "        with open(path, \"r\") as f:\n",
    "            for line in f:\n",
    "                yield line\n",
    "\n",
    "tokenizer.train_from_iterator(dataset_iterator(), trainer=trainer)"
   ]
  },
  {
   "cell_type": "code",
   "execution_count": 19,
   "id": "89ea83c0-586d-4298-a0c3-c61cf2b3f043",
   "metadata": {},
   "outputs": [
    {
     "data": {
      "text/plain": [
       "('unroll-tokenizer/tokenizer_config.json',\n",
       " 'unroll-tokenizer/special_tokens_map.json',\n",
       " 'unroll-tokenizer/vocab.txt',\n",
       " 'unroll-tokenizer/added_tokens.json',\n",
       " 'unroll-tokenizer/tokenizer.json')"
      ]
     },
     "execution_count": 19,
     "metadata": {},
     "output_type": "execute_result"
    }
   ],
   "source": [
    "from transformers import GPT2TokenizerFast\n",
    "\n",
    "tokenizer.post_processor = processors.ByteLevel(trim_offsets=False)\n",
    "tokenizer.decoder = decoders.ByteLevel()\n",
    "\n",
    "new_tokenizer = GPT2TokenizerFast(tokenizer_object=tokenizer)\n",
    "new_tokenizer.save_pretrained('unroll-tokenizer')"
   ]
  },
  {
   "cell_type": "markdown",
   "id": "8855a05c-7639-4c58-b1f0-3cf1db3b6022",
   "metadata": {},
   "source": [
    "## Theorem analysis"
   ]
  },
  {
   "cell_type": "code",
   "execution_count": 2,
   "id": "8100ae56-dbac-4940-9325-71c19f5111fa",
   "metadata": {},
   "outputs": [],
   "source": [
    "from transformers import AutoTokenizer\n",
    "\n",
    "tokenizer = AutoTokenizer.from_pretrained('unroll-tokenizer')\n",
    "tokenizer.pad_token = tokenizer.eos_token\n",
    "tokenizer.padding_side = 'right'\n",
    "\n",
    "tactic_token = tokenizer.convert_tokens_to_ids('[TACTIC]')"
   ]
  },
  {
   "cell_type": "code",
   "execution_count": 66,
   "id": "16329528-05f6-4712-a21e-c7c52c484820",
   "metadata": {},
   "outputs": [
    {
     "name": "stdout",
     "output_type": "stream",
     "text": [
      "Collected 548369 theorems and 7688801 steps\n",
      "[HYP]\n",
      "HCM: C -> M\n",
      "HCYMY: (C -> Y) -> M -> Y\n",
      "HMY: M -> Y\n",
      "HY: Y\n",
      "HYVM: (Y -> V) -> M\n",
      "HZ: Z\n",
      "HZYV: (Z -> Y) -> V\n",
      "[GOAL]\n",
      "Y\n",
      "[TACTIC]\n",
      "apply HY. \n",
      "\n"
     ]
    }
   ],
   "source": [
    "files = ['../dataset/unroll.v']\n",
    "steps = []\n",
    "\n",
    "for file in files:\n",
    "    data = open(file, 'r').read()\n",
    "    for th in data.split('[THEOREM]')[1:]:\n",
    "        steps.append([])\n",
    "        for step in th.split('[HYP]')[1:]:\n",
    "            steps[-1].append('[HYP]' + step)\n",
    "\n",
    "print('Collected {0} theorems and {1} steps'.format(len(steps), sum(len(x) for x in steps)))\n",
    "print(steps[-1][-1])"
   ]
  },
  {
   "cell_type": "code",
   "execution_count": 67,
   "id": "d133a574-d740-414e-ade3-f50db36bf090",
   "metadata": {},
   "outputs": [
    {
     "name": "stdout",
     "output_type": "stream",
     "text": [
      "Total tokens 586244317\n"
     ]
    }
   ],
   "source": [
    "tokens = [[tokenizer.encode(step) for step in th] for th in steps]\n",
    "print('Total tokens {0}'.format(sum(len(tok) for th in tokens for tok in th)))"
   ]
  },
  {
   "cell_type": "code",
   "execution_count": 71,
   "id": "40f3eaa1-1982-42fb-8c5e-2b1a5cb3a309",
   "metadata": {},
   "outputs": [
    {
     "data": {
      "text/plain": [
       "[[5, 53, 6, 53, 35, 94, 129, 53, 7, 53, 120, 172, 11, 104],\n",
       " [5, 53, 150, 13, 129, 53, 6, 53, 35, 53, 7, 53, 111, 172, 11, 104]]"
      ]
     },
     "execution_count": 71,
     "metadata": {},
     "output_type": "execute_result"
    }
   ],
   "source": [
    "tokens[0]"
   ]
  },
  {
   "cell_type": "code",
   "execution_count": 35,
   "id": "4d147db5-406c-4a18-8fd0-1040e3082927",
   "metadata": {},
   "outputs": [
    {
     "name": "stdout",
     "output_type": "stream",
     "text": [
      "[HYP] 5\n",
      "[GOAL] 6\n",
      "[TACTIC] 7\n"
     ]
    }
   ],
   "source": [
    "part_to_id = {}\n",
    "for tok in [\"[HYP]\", \"[GOAL]\", \"[TACTIC]\"]:\n",
    "    part_to_id[tok] = tokenizer.convert_tokens_to_ids(tok)\n",
    "    print(tok, part_to_id[tok])"
   ]
  },
  {
   "cell_type": "code",
   "execution_count": 69,
   "id": "6aac3e28-ec80-4ba3-b0c4-b3c86e022cbf",
   "metadata": {},
   "outputs": [],
   "source": [
    "pickle.dump(tokens, open('unroll-tokens', 'wb'))"
   ]
  },
  {
   "cell_type": "code",
   "execution_count": 70,
   "id": "9494c796-defb-475a-b567-8619624f2e7a",
   "metadata": {},
   "outputs": [
    {
     "data": {
      "image/png": "[encoded data removed]",
      "text/plain": [
       "<Figure size 640x480 with 1 Axes>"
      ]
     },
     "metadata": {},
     "output_type": "display_data"
    }
   ],
   "source": [
    "plt.hist([len(tok) for th in tokens for tok in th], bins=20)\n",
    "plt.show()"
   ]
  },
  {
   "cell_type": "markdown",
   "id": "7a18190e-2d71-4c0c-bd3a-9ccf24a1ea4e",
   "metadata": {},
   "source": [
    "## Dataset"
   ]
  },
  {
   "cell_type": "code",
   "execution_count": 72,
   "id": "1d725389-14e1-44e0-99e8-7e183d40fdb9",
   "metadata": {},
   "outputs": [],
   "source": [
    "init_repeat = 1\n",
    "repeat = 1\n",
    "\n",
    "indices = np.arange(len(tokens) // init_repeat)\n",
    "np.random.shuffle(indices)\n",
    "pickle.dump(indices, open('unroll-test-split', 'wb'))"
   ]
  },
  {
   "cell_type": "code",
   "execution_count": 73,
   "id": "138fdbb9-423e-41f8-b7a8-d22c57bb0aa9",
   "metadata": {},
   "outputs": [],
   "source": [
    "from datasets import Dataset, DatasetDict\n",
    "\n",
    "max_tokens = 128\n",
    "test_size = 0.01\n",
    "\n",
    "split = int(len(indices) * test_size)\n",
    "test_indices, train_indices = indices[:split], indices[split:]\n",
    "test_tok = [step for j in test_indices for step in tokens[init_repeat * j]]\n",
    "train_tok = [step for i in range(repeat) for j in train_indices for step in tokens[init_repeat * j + i]]\n",
    "test_data = Dataset.from_dict({'input_ids': [tok for tok in test_tok if len(tok) <= max_tokens]})\n",
    "train_data = Dataset.from_dict({'input_ids': [tok for tok in train_tok if len(tok) <= max_tokens]})\n",
    "\n",
    "dataset = DatasetDict({'train': train_data, 'test': test_data})"
   ]
  },
  {
   "cell_type": "code",
   "execution_count": 4,
   "id": "953c55da-22a3-42fa-acbc-48e23f8daa70",
   "metadata": {},
   "outputs": [
    {
     "name": "stdout",
     "output_type": "stream",
     "text": [
      "Total parameters 1628544\n"
     ]
    }
   ],
   "source": [
    "from transformers import GPT2Config, GPT2LMHeadModel\n",
    "\n",
    "max_tokens = 128\n",
    "config = GPT2Config(vocab_size=len(tokenizer), n_positions=max_tokens, n_embd=128, n_layer=8, n_head=8, \n",
    "                    bos_token_id=tokenizer.eos_token_id, eos_token_id=tokenizer.eos_token_id)\n",
    "model = GPT2LMHeadModel(config).cuda()\n",
    "print('Total parameters {0}'.format(sum(p.numel() for p in model.parameters())))"
   ]
  },
  {
   "cell_type": "code",
   "execution_count": 80,
   "id": "e819ba31-78e9-4d8b-8b93-d50c9499c3e2",
   "metadata": {},
   "outputs": [
    {
     "data": {
      "application/vnd.jupyter.widget-view+json": {
       "model_id": "d8b302f517e041d5883cf305121c3efd",
       "version_major": 2,
       "version_minor": 0
      },
      "text/plain": [
       "Map:   0%|          | 0/7611052 [00:00<?, ? examples/s]"
      ]
     },
     "metadata": {},
     "output_type": "display_data"
    },
    {
     "data": {
      "application/vnd.jupyter.widget-view+json": {
       "model_id": "7d0ca78779074b8ab455cec7445f8642",
       "version_major": 2,
       "version_minor": 0
      },
      "text/plain": [
       "Map:   0%|          | 0/77256 [00:00<?, ? examples/s]"
      ]
     },
     "metadata": {},
     "output_type": "display_data"
    }
   ],
   "source": [
    "def generate_loss_mask(sample, tactic_token):\n",
    "    tactic_pos = sample['input_ids'].index(tactic_token)\n",
    "    mask = [0] * (tactic_pos + 1) + [1] * (len(sample['input_ids']) - (tactic_pos + 1))\n",
    "    sample['loss_mask'] = mask\n",
    "    return sample\n",
    "\n",
    "tactic_token = tokenizer.convert_tokens_to_ids('[TACTIC]')\n",
    "dataset = dataset.map(lambda x: generate_loss_mask(x, tactic_token))"
   ]
  },
  {
   "cell_type": "code",
   "execution_count": 82,
   "id": "d12a9290-a832-435a-bec0-efd1e8393769",
   "metadata": {},
   "outputs": [
    {
     "data": {
      "application/vnd.jupyter.widget-view+json": {
       "model_id": "3c62f48342bb4498b00b80863f0a1706",
       "version_major": 2,
       "version_minor": 0
      },
      "text/plain": [
       "Saving the dataset (0/15 shards):   0%|          | 0/7611052 [00:00<?, ? examples/s]"
      ]
     },
     "metadata": {},
     "output_type": "display_data"
    },
    {
     "data": {
      "application/vnd.jupyter.widget-view+json": {
       "model_id": "718c3080704744e4a989ce9528bf38e9",
       "version_major": 2,
       "version_minor": 0
      },
      "text/plain": [
       "Saving the dataset (0/1 shards):   0%|          | 0/77256 [00:00<?, ? examples/s]"
      ]
     },
     "metadata": {},
     "output_type": "display_data"
    }
   ],
   "source": [
    "dataset.save_to_disk('unroll.hf')"
   ]
  },
  {
   "cell_type": "code",
   "execution_count": 3,
   "id": "2c87f430-2e46-442d-9d8b-c0e61b2ada3a",
   "metadata": {},
   "outputs": [],
   "source": [
    "from datasets import load_from_disk\n",
    "\n",
    "dataset = load_from_disk('unroll.hf')"
   ]
  },
  {
   "cell_type": "code",
   "execution_count": 18,
   "id": "701006bc-56d5-46af-9680-1f50a426e4a7",
   "metadata": {},
   "outputs": [
    {
     "name": "stderr",
     "output_type": "stream",
     "text": [
      "Detected kernel version 3.10.0, which is below the recommended minimum of 5.5.0; this can cause the process to hang. It is recommended to upgrade the kernel to the minimum version or higher.\n",
      "max_steps is given, it will override any value given in num_train_epochs\n"
     ]
    }
   ],
   "source": [
    "import torch\n",
    "from transformers import DataCollatorForLanguageModeling\n",
    "from transformers import Trainer, TrainingArguments\n",
    "\n",
    "epoch_num = 2\n",
    "batch_size = 64\n",
    "max_steps = (epoch_num * len(dataset['train'])) // batch_size\n",
    "\n",
    "class DataCollatorWithLossMask(DataCollatorForLanguageModeling):\n",
    "    def __call__(self, features):\n",
    "        batch = super().__call__(features)\n",
    "        tactic_pos = torch.argmax((batch['input_ids'] == tactic_token).long(), dim=1)[:, None]\n",
    "        indices = torch.arange(batch['input_ids'].shape[1])\n",
    "        batch['loss_mask'] = (indices > tactic_pos) & batch['attention_mask']\n",
    "        return batch\n",
    "\n",
    "collator = DataCollatorWithLossMask(tokenizer=tokenizer, mlm=False, pad_to_multiple_of=8)\n",
    "\n",
    "training_args = TrainingArguments(\n",
    "    output_dir=\"./unroll-output-repeat-1-small\",\n",
    "    max_steps=max_steps,\n",
    "    per_device_train_batch_size=batch_size,\n",
    "    per_device_eval_batch_size=64,\n",
    "    eval_strategy=\"steps\",\n",
    "    save_steps=10000,\n",
    "    eval_steps=10000,\n",
    "    learning_rate=5e-4,\n",
    "    weight_decay=0.01,\n",
    "    lr_scheduler_type='cosine',\n",
    "    warmup_steps=3000,\n",
    "    logging_dir='./augapply-logs',\n",
    "    report_to='none'\n",
    ")\n",
    "\n",
    "class TrainerWithLossMask(Trainer):\n",
    "    def compute_loss(self, model, inputs, return_outputs=False):\n",
    "        outputs = model.forward(input_ids=inputs['input_ids'], attention_mask=inputs['attention_mask'])\n",
    "        lm_logits = outputs['logits']\n",
    "        labels = inputs['labels']\n",
    "        \n",
    "        shift_logits = lm_logits[..., :-1, :].contiguous()\n",
    "        shift_labels = labels[..., 1:].contiguous()\n",
    "        \n",
    "        loss_fct = torch.nn.CrossEntropyLoss(reduction='none')\n",
    "        loss = loss_fct(shift_logits.view(-1, shift_logits.size(-1)), shift_labels.view(-1))\n",
    "        \n",
    "        mask = inputs['loss_mask'][..., 1:].contiguous().view(-1)\n",
    "        loss = torch.sum(mask * loss) / torch.sum(mask)\n",
    "        \n",
    "        return (loss, outputs) if return_outputs else loss\n",
    "\n",
    "trainer = TrainerWithLossMask(\n",
    "    model=model,\n",
    "    args=training_args,\n",
    "    train_dataset=dataset[\"train\"],\n",
    "    eval_dataset=dataset[\"test\"],\n",
    "    data_collator=collator,\n",
    ")"
   ]
  },
  {
   "cell_type": "code",
   "execution_count": 19,
   "id": "2b85f2c3-6ccc-4cf3-9880-db36d7a77543",
   "metadata": {},
   "outputs": [
    {
     "data": {
      "text/html": [
       "\n",
       "    <div>\n",
       "      \n",
       "      <progress value='190862' max='237845' style='width:300px; height:20px; vertical-align: middle;'></progress>\n",
       "      [190862/237845 2:06:55 < 31:14, 25.06 it/s, Epoch 1.60/2]\n",
       "    </div>\n",
       "    <table border=\"1\" class=\"dataframe\">\n",
       "  <thead>\n",
       " <tr style=\"text-align: left;\">\n",
       "      <th>Step</th>\n",
       "      <th>Training Loss</th>\n",
       "      <th>Validation Loss</th>\n",
       "    </tr>\n",
       "  </thead>\n",
       "  <tbody>\n",
       "    <tr>\n",
       "      <td>10000</td>\n",
       "      <td>0.258700</td>\n",
       "      <td>0.192959</td>\n",
       "    </tr>\n",
       "    <tr>\n",
       "      <td>20000</td>\n",
       "      <td>0.082900</td>\n",
       "      <td>0.051146</td>\n",
       "    </tr>\n",
       "    <tr>\n",
       "      <td>30000</td>\n",
       "      <td>0.059100</td>\n",
       "      <td>0.043046</td>\n",
       "    </tr>\n",
       "    <tr>\n",
       "      <td>40000</td>\n",
       "      <td>0.049000</td>\n",
       "      <td>0.037699</td>\n",
       "    </tr>\n",
       "    <tr>\n",
       "      <td>50000</td>\n",
       "      <td>0.046400</td>\n",
       "      <td>0.033701</td>\n",
       "    </tr>\n",
       "    <tr>\n",
       "      <td>60000</td>\n",
       "      <td>0.042100</td>\n",
       "      <td>0.033097</td>\n",
       "    </tr>\n",
       "    <tr>\n",
       "      <td>70000</td>\n",
       "      <td>0.038200</td>\n",
       "      <td>0.032379</td>\n",
       "    </tr>\n",
       "    <tr>\n",
       "      <td>80000</td>\n",
       "      <td>0.036100</td>\n",
       "      <td>0.030842</td>\n",
       "    </tr>\n",
       "    <tr>\n",
       "      <td>90000</td>\n",
       "      <td>0.035800</td>\n",
       "      <td>0.029506</td>\n",
       "    </tr>\n",
       "    <tr>\n",
       "      <td>100000</td>\n",
       "      <td>0.033400</td>\n",
       "      <td>0.028108</td>\n",
       "    </tr>\n",
       "    <tr>\n",
       "      <td>110000</td>\n",
       "      <td>0.031200</td>\n",
       "      <td>0.027231</td>\n",
       "    </tr>\n",
       "    <tr>\n",
       "      <td>120000</td>\n",
       "      <td>0.030700</td>\n",
       "      <td>0.026706</td>\n",
       "    </tr>\n",
       "    <tr>\n",
       "      <td>130000</td>\n",
       "      <td>0.029600</td>\n",
       "      <td>0.025951</td>\n",
       "    </tr>\n",
       "    <tr>\n",
       "      <td>140000</td>\n",
       "      <td>0.028500</td>\n",
       "      <td>0.025476</td>\n",
       "    </tr>\n",
       "    <tr>\n",
       "      <td>150000</td>\n",
       "      <td>0.027200</td>\n",
       "      <td>0.024759</td>\n",
       "    </tr>\n",
       "    <tr>\n",
       "      <td>160000</td>\n",
       "      <td>0.026500</td>\n",
       "      <td>0.024545</td>\n",
       "    </tr>\n",
       "    <tr>\n",
       "      <td>170000</td>\n",
       "      <td>0.025800</td>\n",
       "      <td>0.023759</td>\n",
       "    </tr>\n",
       "    <tr>\n",
       "      <td>180000</td>\n",
       "      <td>0.025400</td>\n",
       "      <td>0.023342</td>\n",
       "    </tr>\n",
       "    <tr>\n",
       "      <td>190000</td>\n",
       "      <td>0.025400</td>\n",
       "      <td>0.023044</td>\n",
       "    </tr>\n",
       "  </tbody>\n",
       "</table><p>"
      ],
      "text/plain": [
       "<IPython.core.display.HTML object>"
      ]
     },
     "metadata": {},
     "output_type": "display_data"
    },
    {
     "name": "stderr",
     "output_type": "stream",
     "text": [
      "IOPub message rate exceeded.\n",
      "The Jupyter server will temporarily stop sending output\n",
      "to the client in order to avoid crashing it.\n",
      "To change this limit, set the config variable\n",
      "`--ServerApp.iopub_msg_rate_limit`.\n",
      "\n",
      "Current values:\n",
      "ServerApp.iopub_msg_rate_limit=1000.0 (msgs/sec)\n",
      "ServerApp.rate_limit_window=3.0 (secs)\n",
      "\n"
     ]
    }
   ],
   "source": [
    "trainer.train()"
   ]
  },
  {
   "cell_type": "code",
   "execution_count": 24,
   "id": "b3f1b64e-2703-4cdd-bc82-dd0e46e2a5ab",
   "metadata": {},
   "outputs": [
    {
     "data": {
      "image/png": "[encoded data removed]",
      "text/plain": [
       "<Figure size 640x480 with 1 Axes>"
      ]
     },
     "metadata": {},
     "output_type": "display_data"
    }
   ],
   "source": [
    "plt.plot([x['loss'] for x in trainer.state.log_history if 'loss' in x][50:])\n",
    "plt.show()"
   ]
  },
  {
   "cell_type": "code",
   "execution_count": 23,
   "id": "fbfc2bda-562c-45aa-90ee-b75dca4182b4",
   "metadata": {},
   "outputs": [
    {
     "data": {
      "image/png": "[encoded data removed]",
      "text/plain": [
       "<Figure size 640x480 with 1 Axes>"
      ]
     },
     "metadata": {},
     "output_type": "display_data"
    }
   ],
   "source": [
    "plt.loglog([x['eval_loss'] for x in trainer.state.log_history if 'eval_loss' in x])\n",
    "plt.show()"
   ]
  },
  {
   "cell_type": "code",
   "execution_count": 18,
   "id": "89bc1082-7b23-4470-9862-d62e5c761c07",
   "metadata": {},
   "outputs": [],
   "source": [
    "model = GPT2LMHeadModel.from_pretrained('unroll-output-repeat-1-small/checkpoint-230000').cuda()\n",
    "_ = model.eval()"
   ]
  },
  {
   "cell_type": "markdown",
   "id": "49b605a5-ea22-437f-b030-e3d186ef9ca7",
   "metadata": {},
   "source": [
    "## Generation"
   ]
  },
  {
   "cell_type": "code",
   "execution_count": 9,
   "id": "b1166db9-f3a4-4a5f-a4b9-b2ab0fa5e570",
   "metadata": {},
   "outputs": [],
   "source": [
    "from tiny_theorems import Env\n",
    "\n",
    "def pretty(string):\n",
    "    return ''.join(string.split('##'))\n",
    "\n",
    "def extract_statement(state):\n",
    "    hyp, goal = state.split('[GOAL]')\n",
    "    hyp = hyp.split('[HYP]')[1].strip()\n",
    "    if not hyp:\n",
    "        return goal.split('[TACTIC]')[0].strip()\n",
    "    return None\n",
    "\n",
    "def extract_tactic(state):\n",
    "    _, tactic = state.split('[TACTIC]')\n",
    "    return tactic.strip()\n",
    "\n",
    "hyp_token = tokenizer.convert_tokens_to_ids('[HYP]')\n",
    "goal_token = tokenizer.convert_tokens_to_ids('[GOAL]')\n",
    "newline_token = tokenizer.encode('\\n')[0]\n",
    "dot_token = tokenizer.convert_tokens_to_ids('.')\n",
    "\n",
    "def detect_statement(tok):\n",
    "    return tok[:3] == [hyp_token, newline_token, goal_token]"
   ]
  },
  {
   "cell_type": "code",
   "execution_count": 11,
   "id": "e09fd61d-bc8a-4d59-9679-7eb6f70ddb88",
   "metadata": {},
   "outputs": [],
   "source": [
    "statement_tokens = [x for x in dataset['test']['input_ids'] if detect_statement(x)]\n",
    "statements = [pretty(x) for x in tokenizer.batch_decode(statement_tokens)]"
   ]
  },
  {
   "cell_type": "code",
   "execution_count": 33,
   "id": "8e102efc-309a-430e-98a7-9868ed2a3015",
   "metadata": {},
   "outputs": [
    {
     "name": "stdout",
     "output_type": "stream",
     "text": [
      "0\n",
      "25\n",
      "50\n",
      "75\n",
      "100\n",
      "125\n",
      "can't find hypothesis with name HUFGN\n",
      "150\n",
      "175\n",
      "200\n",
      "225\n",
      "250\n",
      "can't find hypothesis with name HYCI\n",
      "275\n",
      "300\n",
      "325\n",
      "350\n",
      "375\n",
      "400\n",
      "425\n",
      "450\n",
      "475\n",
      "can't find hypothesis with name HZ\n",
      "500\n",
      "525\n",
      "550\n",
      "can't find hypothesis with name HPNRL\n",
      "575\n",
      "can't find hypothesis with name HIFQ\n",
      "600\n",
      "625\n",
      "can't find hypothesis with name HSPFS\n",
      "can't find hypothesis with name HQFWV\n",
      "650\n",
      "675\n",
      "700\n",
      "725\n",
      "can't find hypothesis with name HLURV\n",
      "750\n",
      "775\n",
      "800\n",
      "825\n",
      "850\n",
      "875\n",
      "900\n",
      "925\n",
      "can't find hypothesis with name HC\n",
      "950\n",
      "975\n",
      "can't find hypothesis with name HTNE\n"
     ]
    }
   ],
   "source": [
    "counter = 0\n",
    "step_list = []\n",
    "\n",
    "for i, orig_state in enumerate(statements[:1000]):\n",
    "    if i % 25 == 0:\n",
    "        print(i)\n",
    "    step_list.append([])\n",
    "    env = Env(extract_statement(orig_state))\n",
    "\n",
    "    try:\n",
    "        for _ in range(250):\n",
    "            state = env.current_state()\n",
    "            if state is None:\n",
    "                step_list[-1].append(None)\n",
    "                counter += 1\n",
    "                break\n",
    "        \n",
    "            input_ids = torch.tensor(tokenizer.encode(state))[None].cuda()\n",
    "            model_inputs = {'input_ids': input_ids, 'attention_mask': torch.ones_like(input_ids)}\n",
    "            gen = model.generate(**model_inputs, eos_token_id=dot_token, pad_token_id=dot_token, \n",
    "                                 num_beams=1, do_sample=False, max_length=max_tokens)\n",
    "            new_state = pretty(tokenizer.batch_decode(gen)[0])\n",
    "            step_list[-1].append(new_state)\n",
    "            \n",
    "            tactic = extract_tactic(new_state)\n",
    "            env.step(tactic)\n",
    "    except KeyboardInterrupt:\n",
    "        break\n",
    "    except Exception as e:\n",
    "        print(e)\n",
    "        pass"
   ]
  },
  {
   "cell_type": "code",
   "execution_count": 34,
   "id": "9024fe08-b243-4d85-94c0-52230b873ca3",
   "metadata": {},
   "outputs": [
    {
     "data": {
      "text/plain": [
       "973"
      ]
     },
     "execution_count": 34,
     "metadata": {},
     "output_type": "execute_result"
    }
   ],
   "source": [
    "counter"
   ]
  },
  {
   "cell_type": "code",
   "execution_count": 38,
   "id": "615ca03d-08a1-474e-bd7b-becff72c2f9d",
   "metadata": {},
   "outputs": [],
   "source": [
    "pickle.dump(step_list, open('step_list.pickle', 'wb'))"
   ]
  },
  {
   "cell_type": "code",
   "execution_count": null,
   "id": "590d2f9e-4ebf-41fd-9464-86e9dd1bdbd8",
   "metadata": {},
   "outputs": [],
   "source": []
  }
 ],
 "metadata": {
  "kernelspec": {
   "display_name": "Python 3 (ipykernel)",
   "language": "python",
   "name": "python3"
  },
  "language_info": {
   "codemirror_mode": {
    "name": "ipython",
    "version": 3
   },
   "file_extension": ".py",
   "mimetype": "text/x-python",
   "name": "python",
   "nbconvert_exporter": "python",
   "pygments_lexer": "ipython3",
   "version": "3.10.13"
  }
 },
 "nbformat": 4,
 "nbformat_minor": 5
}
